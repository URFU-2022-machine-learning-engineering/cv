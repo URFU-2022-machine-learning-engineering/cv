{
  "cells": [
    {
      "cell_type": "markdown",
      "metadata": {},
      "source": [
        "## Import modules"
      ]
    },
    {
      "cell_type": "code",
      "execution_count": 1,
      "metadata": {
        "id": "9Bt_qo2mTYg6"
      },
      "outputs": [],
      "source": [
        "import torch\n",
        "import torch.nn as nn\n",
        "import torch.optim as optim\n",
        "\n",
        "import torchvision\n",
        "import torchvision.transforms as transforms\n",
        "\n",
        "import matplotlib.pyplot as plt\n",
        "\n",
        "from torch.utils.data import DataLoader\n",
        "from dataclasses import dataclass\n",
        "from tqdm import tqdm"
      ]
    },
    {
      "cell_type": "markdown",
      "metadata": {},
      "source": [
        "### Helpers"
      ]
    },
    {
      "cell_type": "markdown",
      "metadata": {},
      "source": [
        "#### Plot losses method"
      ]
    },
    {
      "cell_type": "code",
      "execution_count": 2,
      "metadata": {},
      "outputs": [],
      "source": [
        "def plot_loss(losses_generator, losses_critic, title):\n",
        "    \"\"\"\n",
        "    Plots the losses over the training iterations.\n",
        "\n",
        "    Args:\n",
        "        losses (list): List of loss values.\n",
        "        title (str): The title of the plot.\n",
        "\n",
        "    Returns:\n",
        "        None\n",
        "    \"\"\"\n",
        "    plt.figure(figsize=(10,5))\n",
        "    plt.title(title)\n",
        "    plt.plot(losses_generator, label=\"Generator\")\n",
        "    plt.plot(losses_critic, label=\"Critic\")\n",
        "    plt.xlabel(\"iterations\")\n",
        "    plt.ylabel(\"Loss\")\n",
        "    plt.show()\n"
      ]
    },
    {
      "cell_type": "markdown",
      "metadata": {},
      "source": [
        "#### Generate images method"
      ]
    },
    {
      "cell_type": "code",
      "execution_count": 3,
      "metadata": {},
      "outputs": [],
      "source": [
        "def generate_images(generator, label, n_images=16, device='cuda', config=None):\n",
        "    \"\"\"\n",
        "    Generates and displays fake images using a generator model.\n",
        "\n",
        "    Parameters:\n",
        "    - generator (torch.nn.Module): The generator model used to generate fake images.\n",
        "    - label (int): The label to be assigned to the generated images.\n",
        "    - n_images (int): The number of fake images to generate and display. Default is 16.\n",
        "    - device (str): The device to use for generating the images. Default is 'cuda'.\n",
        "    - config (object): Additional configuration options. Default is None.\n",
        "\n",
        "    Returns:\n",
        "    None\n",
        "    \"\"\"\n",
        "    z = torch.randn(n_images, config.noise_dim, device=device)\n",
        "    labels = torch.full((n_images,), label, dtype=torch.long, device=device)\n",
        "    \n",
        "    try:\n",
        "        with torch.no_grad():\n",
        "            fake_images = generator(z, labels).view(-1, 28, 28).cpu().numpy()\n",
        "    except TypeError:\n",
        "        with torch.no_grad():\n",
        "            fake_images = generator(z).view(-1, 28, 28).cpu().numpy()\n",
        "\n",
        "    plt.figure(figsize=(8, 8))\n",
        "    for i in range(n_images):\n",
        "        plt.subplot(4, 4, i+1)\n",
        "        plt.imshow(fake_images[i], cmap='gray')\n",
        "        plt.axis('off')\n",
        "    plt.show()\n"
      ]
    },
    {
      "cell_type": "markdown",
      "metadata": {},
      "source": [
        "## Define a config dataclass"
      ]
    },
    {
      "cell_type": "code",
      "execution_count": 4,
      "metadata": {
        "id": "3YxNX2PkTYg8"
      },
      "outputs": [],
      "source": [
        "@dataclass\n",
        "class Config:\n",
        "    \"\"\"\n",
        "    Configuration class for the GAN model.\n",
        "\n",
        "    Attributes:\n",
        "        batch_size (int): The batch size for training.\n",
        "        lr (float): The learning rate for the model.\n",
        "        num_epochs (int): The number of epochs for training.\n",
        "        noise_dim (int): The dimension of the noise for the generator.\n",
        "        clip_value (float): The value used for weight clipping in WGAN.\n",
        "        critic_iter (int): The number of iterations to train the critic for each generator iteration.\n",
        "    \"\"\"\n",
        "    batch_size: int = 64\n",
        "    lr: float = 0.00005\n",
        "    num_epochs: int = 100\n",
        "    noise_dim: int = 100\n",
        "    clip_value: float = 0.01\n",
        "    critic_iter: int = 5\n",
        "\n",
        "config = Config()"
      ]
    },
    {
      "cell_type": "markdown",
      "metadata": {},
      "source": [
        "## Load the dataset and define a train dataset"
      ]
    },
    {
      "cell_type": "code",
      "execution_count": 5,
      "metadata": {
        "colab": {
          "base_uri": "https://localhost:8080/"
        },
        "id": "OObILcs1TYg9",
        "outputId": "7018c80b-c4c6-4726-c8aa-19e402e91664"
      },
      "outputs": [],
      "source": [
        "transform = transforms.Compose([\n",
        "    transforms.ToTensor(),\n",
        "    transforms.Normalize((0.5,), (0.5,))\n",
        "])\n",
        "\n",
        "train_dataset = torchvision.datasets.FashionMNIST(root='./data', train=True, download=True, transform=transform)\n",
        "train_loader = DataLoader(train_dataset, batch_size=config.batch_size, shuffle=True)"
      ]
    },
    {
      "cell_type": "markdown",
      "metadata": {},
      "source": [
        "## GAN"
      ]
    },
    {
      "cell_type": "markdown",
      "metadata": {},
      "source": [
        "### Define a Critic class"
      ]
    },
    {
      "cell_type": "code",
      "execution_count": 6,
      "metadata": {
        "id": "aLX1UhdHTYg9"
      },
      "outputs": [],
      "source": [
        "class Critic(nn.Module):\n",
        "    def __init__(self):\n",
        "        \"\"\"\n",
        "        Critic class represents the critic network in a GAN model.\n",
        "\n",
        "        The critic network is responsible for evaluating the quality of generated images.\n",
        "\n",
        "        Attributes:\n",
        "            model (nn.Sequential): The sequential model representing the critic network.\n",
        "\n",
        "        \"\"\"\n",
        "        super(Critic, self).__init__()\n",
        "        self.model = nn.Sequential(\n",
        "            nn.Linear(28 * 28, 512),\n",
        "            nn.LeakyReLU(0.2, inplace=True),\n",
        "            nn.Linear(512, 256),\n",
        "            nn.LeakyReLU(0.2, inplace=True),\n",
        "            nn.Linear(256, 1))\n",
        "\n",
        "    def forward(self, x):\n",
        "        \"\"\"\n",
        "        Forward pass of the critic network.\n",
        "\n",
        "        Args:\n",
        "            x (torch.Tensor): Input tensor representing the images.\n",
        "\n",
        "        Returns:\n",
        "            torch.Tensor: Output tensor representing the critic's evaluation of the images.\n",
        "\n",
        "        \"\"\"\n",
        "        x = x.view(x.size(0), -1)\n",
        "        return self.model(x)\n"
      ]
    },
    {
      "cell_type": "markdown",
      "metadata": {},
      "source": [
        "### Define a Generator class"
      ]
    },
    {
      "cell_type": "code",
      "execution_count": 7,
      "metadata": {
        "id": "IzCsUat4TYg-"
      },
      "outputs": [],
      "source": [
        "class Generator(nn.Module):\n",
        "    def __init__(self):\n",
        "        \"\"\"\n",
        "        Initializes the Generator module.\n",
        "\n",
        "        The Generator consists of a series of linear layers followed by\n",
        "        leaky ReLU activation functions and a final Tanh activation function.\n",
        "\n",
        "        Args:\n",
        "            None\n",
        "\n",
        "        Returns:\n",
        "            None\n",
        "        \"\"\"\n",
        "        super(Generator, self).__init__()\n",
        "        self.model = nn.Sequential(\n",
        "            nn.Linear(config.noise_dim, 256),\n",
        "            nn.LeakyReLU(0.2, inplace=True),\n",
        "            nn.Linear(256, 512),\n",
        "            nn.LeakyReLU(0.2, inplace=True),\n",
        "            nn.Linear(512, 1024),\n",
        "            nn.LeakyReLU(0.2, inplace=True),\n",
        "            nn.Linear(1024, 28 * 28),\n",
        "            nn.Tanh())\n",
        "\n",
        "    def forward(self, z):\n",
        "        \"\"\"\n",
        "        Performs forward pass through the Generator.\n",
        "\n",
        "        Args:\n",
        "            z (torch.Tensor): Input noise tensor of shape (batch_size, noise_dim).\n",
        "\n",
        "        Returns:\n",
        "            torch.Tensor: Generated output tensor of shape (batch_size, 28*28).\n",
        "        \"\"\"\n",
        "        return self.model(z)"
      ]
    },
    {
      "cell_type": "markdown",
      "metadata": {},
      "source": [
        "### Initializing Models and Optimizers"
      ]
    },
    {
      "cell_type": "code",
      "execution_count": 8,
      "metadata": {
        "id": "NfwB3U5sTYg-"
      },
      "outputs": [
        {
          "name": "stdout",
          "output_type": "stream",
          "text": [
            "cpu\n"
          ]
        }
      ],
      "source": [
        "device = torch.device('cuda' if torch.cuda.is_available() else 'cpu')\n",
        "\n",
        "critic = Critic().to(device)\n",
        "generator = Generator().to(device)\n",
        "\n",
        "optim_critic = optim.RMSprop(critic.parameters(), lr=config.lr)\n",
        "optim_generator = optim.RMSprop(generator.parameters(), lr=config.lr)\n",
        "print(device)"
      ]
    },
    {
      "cell_type": "code",
      "execution_count": 9,
      "metadata": {},
      "outputs": [],
      "source": [
        "optim_critic = optim.RMSprop(critic.parameters(), lr=config.lr)\n",
        "optim_generator = optim.RMSprop(generator.parameters(), lr=config.lr)\n"
      ]
    },
    {
      "cell_type": "markdown",
      "metadata": {},
      "source": [
        "## Define a weight clipping function"
      ]
    },
    {
      "cell_type": "code",
      "execution_count": 10,
      "metadata": {
        "id": "AEKzhtHlTYg-"
      },
      "outputs": [],
      "source": [
        "def weight_clipping(model, clip_value):\n",
        "    \"\"\"\n",
        "    Clips the weights of the given model to the specified range.\n",
        "\n",
        "    Args:\n",
        "        model (nn.Module): The model whose weights need to be clipped.\n",
        "        clip_value (float): The maximum absolute value allowed for the weights.\n",
        "\n",
        "    Returns:\n",
        "        None\n",
        "    \"\"\"\n",
        "    for param in model.parameters():\n",
        "        param.data.clamp_(-clip_value, clip_value)"
      ]
    },
    {
      "cell_type": "markdown",
      "metadata": {},
      "source": [
        "### GAN Training"
      ]
    },
    {
      "cell_type": "code",
      "execution_count": 11,
      "metadata": {},
      "outputs": [
        {
          "name": "stdout",
          "output_type": "stream",
          "text": [
            "938\n"
          ]
        }
      ],
      "source": [
        "print(len(train_loader))"
      ]
    },
    {
      "cell_type": "code",
      "execution_count": 12,
      "metadata": {
        "colab": {
          "base_uri": "https://localhost:8080/"
        },
        "id": "m8stjuuqTYg_",
        "outputId": "999880c3-13e7-4b9d-986b-f688f889b585"
      },
      "outputs": [
        {
          "name": "stderr",
          "output_type": "stream",
          "text": [
            "                                                                     \n",
            "Epoch 1/100: 100%|██████████| 938/938 [00:14<00:00, 65.15batch/s]h/s]\n",
            "Overall Training Progress:   1%|          | 1/100 [00:14<23:45, 14.40s/epoch]"
          ]
        },
        {
          "name": "stdout",
          "output_type": "stream",
          "text": [
            "Batch 938/938 - Loss D: -1.5181, loss G: -3.9107\n"
          ]
        },
        {
          "name": "stderr",
          "output_type": "stream",
          "text": [
            "                                                                             \n",
            "Epoch 2/100: 100%|██████████| 938/938 [00:13<00:00, 69.68batch/s]4.40s/epoch]\n",
            "Overall Training Progress:   2%|▏         | 2/100 [00:27<22:37, 13.85s/epoch]"
          ]
        },
        {
          "name": "stdout",
          "output_type": "stream",
          "text": [
            "Batch 938/938 - Loss D: -0.8137, loss G: -2.5181\n"
          ]
        },
        {
          "name": "stderr",
          "output_type": "stream",
          "text": [
            "                                                                             \n",
            "Epoch 3/100: 100%|██████████| 938/938 [00:13<00:00, 68.19batch/s]3.85s/epoch]\n",
            "Overall Training Progress:   3%|▎         | 3/100 [00:41<22:19, 13.81s/epoch]"
          ]
        },
        {
          "name": "stdout",
          "output_type": "stream",
          "text": [
            "Batch 938/938 - Loss D: -0.1735, loss G: -1.2012\n"
          ]
        },
        {
          "name": "stderr",
          "output_type": "stream",
          "text": [
            "                                                                             \n",
            "Epoch 4/100: 100%|██████████| 938/938 [00:14<00:00, 63.94batch/s]3.81s/epoch]\n",
            "Overall Training Progress:   4%|▍         | 4/100 [00:56<22:38, 14.15s/epoch]"
          ]
        },
        {
          "name": "stdout",
          "output_type": "stream",
          "text": [
            "Batch 938/938 - Loss D: -0.6063, loss G: -2.3391\n"
          ]
        },
        {
          "name": "stderr",
          "output_type": "stream",
          "text": [
            "                                                                             \n",
            "Epoch 5/100: 100%|██████████| 938/938 [00:13<00:00, 67.74batch/s]4.15s/epoch]\n",
            "Overall Training Progress:   5%|▌         | 5/100 [01:10<22:13, 14.04s/epoch]"
          ]
        },
        {
          "name": "stdout",
          "output_type": "stream",
          "text": [
            "Batch 938/938 - Loss D: -1.3698, loss G: 0.0872\n"
          ]
        },
        {
          "name": "stderr",
          "output_type": "stream",
          "text": [
            "                                                                             \n",
            "Epoch 6/100: 100%|██████████| 938/938 [00:14<00:00, 63.32batch/s]4.04s/epoch]\n",
            "Overall Training Progress:   6%|▌         | 6/100 [01:24<22:24, 14.30s/epoch]"
          ]
        },
        {
          "name": "stdout",
          "output_type": "stream",
          "text": [
            "Batch 938/938 - Loss D: -0.9512, loss G: 0.3234\n"
          ]
        },
        {
          "name": "stderr",
          "output_type": "stream",
          "text": [
            "                                                                             \n",
            "Epoch 7/100: 100%|██████████| 938/938 [00:14<00:00, 65.22batch/s]4.30s/epoch]\n",
            "Overall Training Progress:   7%|▋         | 7/100 [01:39<22:12, 14.33s/epoch]"
          ]
        },
        {
          "name": "stdout",
          "output_type": "stream",
          "text": [
            "Batch 938/938 - Loss D: -0.5382, loss G: -0.9042\n"
          ]
        },
        {
          "name": "stderr",
          "output_type": "stream",
          "text": [
            "                                                                             \n",
            "Epoch 8/100: 100%|██████████| 938/938 [00:14<00:00, 65.00batch/s]4.33s/epoch]\n",
            "Overall Training Progress:   8%|▊         | 8/100 [01:53<22:01, 14.36s/epoch]"
          ]
        },
        {
          "name": "stdout",
          "output_type": "stream",
          "text": [
            "Batch 938/938 - Loss D: 0.2508, loss G: -1.6855\n"
          ]
        },
        {
          "name": "stderr",
          "output_type": "stream",
          "text": [
            "                                                                             \n",
            "Epoch 9/100: 100%|██████████| 938/938 [00:13<00:00, 67.54batch/s]4.36s/epoch]\n",
            "Overall Training Progress:   9%|▉         | 9/100 [02:07<21:33, 14.21s/epoch]"
          ]
        },
        {
          "name": "stdout",
          "output_type": "stream",
          "text": [
            "Batch 938/938 - Loss D: -0.6605, loss G: 0.6825\n"
          ]
        },
        {
          "name": "stderr",
          "output_type": "stream",
          "text": [
            "                                                                             \n",
            "Epoch 10/100: 100%|██████████| 938/938 [00:13<00:00, 67.45batch/s].21s/epoch]\n",
            "Overall Training Progress:  10%|█         | 10/100 [02:21<21:10, 14.12s/epoch]"
          ]
        },
        {
          "name": "stdout",
          "output_type": "stream",
          "text": [
            "Batch 938/938 - Loss D: -0.5869, loss G: -0.6764\n"
          ]
        },
        {
          "name": "stderr",
          "output_type": "stream",
          "text": [
            "                                                                              \n",
            "Epoch 11/100: 100%|██████████| 938/938 [00:14<00:00, 66.21batch/s]4.12s/epoch]\n",
            "Overall Training Progress:  11%|█         | 11/100 [02:35<20:57, 14.13s/epoch]"
          ]
        },
        {
          "name": "stdout",
          "output_type": "stream",
          "text": [
            "Batch 938/938 - Loss D: -0.5493, loss G: -0.5932\n"
          ]
        },
        {
          "name": "stderr",
          "output_type": "stream",
          "text": [
            "                                                                              \n",
            "Epoch 12/100: 100%|██████████| 938/938 [00:14<00:00, 65.57batch/s]4.13s/epoch]\n",
            "Overall Training Progress:  12%|█▏        | 12/100 [02:50<20:48, 14.19s/epoch]"
          ]
        },
        {
          "name": "stdout",
          "output_type": "stream",
          "text": [
            "Batch 938/938 - Loss D: -0.7497, loss G: -0.3441\n"
          ]
        },
        {
          "name": "stderr",
          "output_type": "stream",
          "text": [
            "                                                                              \n",
            "Epoch 13/100: 100%|██████████| 938/938 [00:14<00:00, 66.96batch/s]4.19s/epoch]\n",
            "Overall Training Progress:  13%|█▎        | 13/100 [03:04<20:29, 14.13s/epoch]"
          ]
        },
        {
          "name": "stdout",
          "output_type": "stream",
          "text": [
            "Batch 938/938 - Loss D: -0.3402, loss G: -0.5254\n"
          ]
        },
        {
          "name": "stderr",
          "output_type": "stream",
          "text": [
            "                                                                              \n",
            "Epoch 14/100: 100%|██████████| 938/938 [00:14<00:00, 63.51batch/s]4.13s/epoch]\n",
            "Overall Training Progress:  14%|█▍        | 14/100 [03:18<20:32, 14.33s/epoch]"
          ]
        },
        {
          "name": "stdout",
          "output_type": "stream",
          "text": [
            "Batch 938/938 - Loss D: -0.5232, loss G: 0.3976\n"
          ]
        },
        {
          "name": "stderr",
          "output_type": "stream",
          "text": [
            "                                                                              \n",
            "Epoch 15/100: 100%|██████████| 938/938 [00:14<00:00, 66.23batch/s]4.33s/epoch]\n",
            "Overall Training Progress:  15%|█▌        | 15/100 [03:32<20:13, 14.28s/epoch]"
          ]
        },
        {
          "name": "stdout",
          "output_type": "stream",
          "text": [
            "Batch 938/938 - Loss D: -0.5254, loss G: -0.1703\n"
          ]
        },
        {
          "name": "stderr",
          "output_type": "stream",
          "text": [
            "                                                                              \n",
            "Epoch 16/100: 100%|██████████| 938/938 [00:14<00:00, 65.22batch/s]4.28s/epoch]\n",
            "Overall Training Progress:  16%|█▌        | 16/100 [03:47<20:01, 14.31s/epoch]"
          ]
        },
        {
          "name": "stdout",
          "output_type": "stream",
          "text": [
            "Batch 938/938 - Loss D: -0.3126, loss G: -0.1526\n"
          ]
        },
        {
          "name": "stderr",
          "output_type": "stream",
          "text": [
            "                                                                              \n",
            "Epoch 17/100: 100%|██████████| 938/938 [00:13<00:00, 68.37batch/s]4.31s/epoch]\n",
            "Overall Training Progress:  17%|█▋        | 17/100 [04:01<19:32, 14.13s/epoch]"
          ]
        },
        {
          "name": "stdout",
          "output_type": "stream",
          "text": [
            "Batch 938/938 - Loss D: -0.3026, loss G: -0.6127\n"
          ]
        },
        {
          "name": "stderr",
          "output_type": "stream",
          "text": [
            "                                                                              \n",
            "Epoch 18/100: 100%|██████████| 938/938 [00:13<00:00, 68.57batch/s]4.13s/epoch]\n",
            "Overall Training Progress:  18%|█▊        | 18/100 [04:14<19:07, 14.00s/epoch]"
          ]
        },
        {
          "name": "stdout",
          "output_type": "stream",
          "text": [
            "Batch 938/938 - Loss D: -0.3826, loss G: 0.1118\n"
          ]
        },
        {
          "name": "stderr",
          "output_type": "stream",
          "text": [
            "                                                                              \n",
            "Epoch 19/100: 100%|██████████| 938/938 [00:13<00:00, 67.03batch/s]4.00s/epoch]\n",
            "Overall Training Progress:  19%|█▉        | 19/100 [04:28<18:53, 14.00s/epoch]"
          ]
        },
        {
          "name": "stdout",
          "output_type": "stream",
          "text": [
            "Batch 938/938 - Loss D: -0.1925, loss G: -0.4844\n"
          ]
        },
        {
          "name": "stderr",
          "output_type": "stream",
          "text": [
            "                                                                              \n",
            "Epoch 20/100: 100%|██████████| 938/938 [00:15<00:00, 59.40batch/s]4.00s/epoch]\n",
            "Overall Training Progress:  20%|██        | 20/100 [04:44<19:22, 14.54s/epoch]"
          ]
        },
        {
          "name": "stdout",
          "output_type": "stream",
          "text": [
            "Batch 938/938 - Loss D: -0.5002, loss G: 0.0422\n"
          ]
        },
        {
          "name": "stderr",
          "output_type": "stream",
          "text": [
            "                                                                              \n",
            "Epoch 21/100: 100%|██████████| 938/938 [00:16<00:00, 55.41batch/s]4.54s/epoch]\n",
            "Overall Training Progress:  21%|██        | 21/100 [05:01<20:05, 15.25s/epoch]"
          ]
        },
        {
          "name": "stdout",
          "output_type": "stream",
          "text": [
            "Batch 938/938 - Loss D: -0.1413, loss G: -0.2176\n"
          ]
        },
        {
          "name": "stderr",
          "output_type": "stream",
          "text": [
            "                                                                              \n",
            "Epoch 22/100: 100%|██████████| 938/938 [00:17<00:00, 54.42batch/s]5.25s/epoch]\n",
            "Overall Training Progress:  22%|██▏       | 22/100 [05:18<20:36, 15.85s/epoch]"
          ]
        },
        {
          "name": "stdout",
          "output_type": "stream",
          "text": [
            "Batch 938/938 - Loss D: -0.1471, loss G: -0.1970\n"
          ]
        },
        {
          "name": "stderr",
          "output_type": "stream",
          "text": [
            "                                                                              \n",
            "Epoch 23/100: 100%|██████████| 938/938 [00:17<00:00, 54.73batch/s]5.85s/epoch]\n",
            "Overall Training Progress:  23%|██▎       | 23/100 [05:35<20:50, 16.24s/epoch]"
          ]
        },
        {
          "name": "stdout",
          "output_type": "stream",
          "text": [
            "Batch 938/938 - Loss D: -0.4438, loss G: -0.2126\n"
          ]
        },
        {
          "name": "stderr",
          "output_type": "stream",
          "text": [
            "                                                                              \n",
            "Epoch 24/100: 100%|██████████| 938/938 [00:14<00:00, 62.77batch/s]6.24s/epoch]\n",
            "Overall Training Progress:  24%|██▍       | 24/100 [05:50<20:04, 15.85s/epoch]"
          ]
        },
        {
          "name": "stdout",
          "output_type": "stream",
          "text": [
            "Batch 938/938 - Loss D: -0.1076, loss G: -0.5899\n"
          ]
        },
        {
          "name": "stderr",
          "output_type": "stream",
          "text": [
            "                                                                              \n",
            "Epoch 25/100: 100%|██████████| 938/938 [00:15<00:00, 61.71batch/s]5.85s/epoch]\n",
            "Overall Training Progress:  25%|██▌       | 25/100 [06:06<19:34, 15.66s/epoch]"
          ]
        },
        {
          "name": "stdout",
          "output_type": "stream",
          "text": [
            "Batch 938/938 - Loss D: -0.5476, loss G: -0.4042\n"
          ]
        },
        {
          "name": "stderr",
          "output_type": "stream",
          "text": [
            "                                                                              \n",
            "Epoch 26/100: 100%|██████████| 938/938 [00:16<00:00, 56.27batch/s]5.66s/epoch]\n",
            "Overall Training Progress:  26%|██▌       | 26/100 [06:22<19:41, 15.96s/epoch]"
          ]
        },
        {
          "name": "stdout",
          "output_type": "stream",
          "text": [
            "Batch 938/938 - Loss D: -0.3635, loss G: 0.2387\n"
          ]
        },
        {
          "name": "stderr",
          "output_type": "stream",
          "text": [
            "                                                                              \n",
            "Epoch 27/100: 100%|██████████| 938/938 [00:13<00:00, 67.10batch/s]5.96s/epoch]\n",
            "Overall Training Progress:  27%|██▋       | 27/100 [06:36<18:41, 15.37s/epoch]"
          ]
        },
        {
          "name": "stdout",
          "output_type": "stream",
          "text": [
            "Batch 938/938 - Loss D: -0.2372, loss G: 0.0448\n"
          ]
        },
        {
          "name": "stderr",
          "output_type": "stream",
          "text": [
            "                                                                              \n",
            "Epoch 28/100: 100%|██████████| 938/938 [00:13<00:00, 67.59batch/s]5.37s/epoch]\n",
            "Overall Training Progress:  28%|██▊       | 28/100 [06:50<17:54, 14.92s/epoch]"
          ]
        },
        {
          "name": "stdout",
          "output_type": "stream",
          "text": [
            "Batch 938/938 - Loss D: -0.2688, loss G: 0.1877\n"
          ]
        },
        {
          "name": "stderr",
          "output_type": "stream",
          "text": [
            "                                                                              \n",
            "Epoch 29/100: 100%|██████████| 938/938 [00:16<00:00, 56.27batch/s]4.92s/epoch]\n",
            "Overall Training Progress:  29%|██▉       | 29/100 [07:07<18:16, 15.44s/epoch]"
          ]
        },
        {
          "name": "stdout",
          "output_type": "stream",
          "text": [
            "Batch 938/938 - Loss D: -0.2250, loss G: -0.2058\n"
          ]
        },
        {
          "name": "stderr",
          "output_type": "stream",
          "text": [
            "                                                                              \n",
            "Epoch 30/100: 100%|██████████| 938/938 [00:13<00:00, 69.12batch/s]5.44s/epoch]\n",
            "Overall Training Progress:  30%|███       | 30/100 [07:20<17:21, 14.88s/epoch]"
          ]
        },
        {
          "name": "stdout",
          "output_type": "stream",
          "text": [
            "Batch 938/938 - Loss D: -0.1966, loss G: -0.2873\n"
          ]
        },
        {
          "name": "stderr",
          "output_type": "stream",
          "text": [
            "                                                                              \n",
            "Epoch 31/100: 100%|██████████| 938/938 [00:14<00:00, 66.74batch/s]4.88s/epoch]\n",
            "Overall Training Progress:  31%|███       | 31/100 [07:34<16:49, 14.63s/epoch]"
          ]
        },
        {
          "name": "stdout",
          "output_type": "stream",
          "text": [
            "Batch 938/938 - Loss D: -0.1865, loss G: -0.4661\n"
          ]
        },
        {
          "name": "stderr",
          "output_type": "stream",
          "text": [
            "                                                                              \n",
            "Epoch 32/100: 100%|██████████| 938/938 [00:19<00:00, 49.13batch/s]4.63s/epoch]\n",
            "Overall Training Progress:  32%|███▏      | 32/100 [07:53<18:06, 15.97s/epoch]"
          ]
        },
        {
          "name": "stdout",
          "output_type": "stream",
          "text": [
            "Batch 938/938 - Loss D: -0.1064, loss G: -0.3486\n"
          ]
        },
        {
          "name": "stderr",
          "output_type": "stream",
          "text": [
            "                                                                              \n",
            "Epoch 33/100: 100%|██████████| 938/938 [00:21<00:00, 44.58batch/s]5.97s/epoch]\n",
            "Overall Training Progress:  33%|███▎      | 33/100 [08:14<19:32, 17.49s/epoch]"
          ]
        },
        {
          "name": "stdout",
          "output_type": "stream",
          "text": [
            "Batch 938/938 - Loss D: 0.0297, loss G: -0.4664\n"
          ]
        },
        {
          "name": "stderr",
          "output_type": "stream",
          "text": [
            "                                                                              \n",
            "Epoch 34/100: 100%|██████████| 938/938 [00:17<00:00, 53.49batch/s]7.49s/epoch]\n",
            "Overall Training Progress:  34%|███▍      | 34/100 [08:32<19:15, 17.51s/epoch]"
          ]
        },
        {
          "name": "stdout",
          "output_type": "stream",
          "text": [
            "Batch 938/938 - Loss D: -0.2088, loss G: -0.2872\n"
          ]
        },
        {
          "name": "stderr",
          "output_type": "stream",
          "text": [
            "                                                                              \n",
            "Epoch 35/100: 100%|██████████| 938/938 [00:17<00:00, 54.14batch/s]7.51s/epoch]\n",
            "Overall Training Progress:  35%|███▌      | 35/100 [08:49<18:54, 17.45s/epoch]"
          ]
        },
        {
          "name": "stdout",
          "output_type": "stream",
          "text": [
            "Batch 938/938 - Loss D: -0.3092, loss G: -0.5096\n"
          ]
        },
        {
          "name": "stderr",
          "output_type": "stream",
          "text": [
            "                                                                              \n",
            "Epoch 36/100: 100%|██████████| 938/938 [00:17<00:00, 54.24batch/s]7.45s/epoch]\n",
            "Overall Training Progress:  36%|███▌      | 36/100 [09:07<18:33, 17.41s/epoch]"
          ]
        },
        {
          "name": "stdout",
          "output_type": "stream",
          "text": [
            "Batch 938/938 - Loss D: -0.1192, loss G: -0.3667\n"
          ]
        },
        {
          "name": "stderr",
          "output_type": "stream",
          "text": [
            "                                                                              \n",
            "Epoch 37/100: 100%|██████████| 938/938 [00:17<00:00, 54.57batch/s]7.41s/epoch]\n",
            "Overall Training Progress:  37%|███▋      | 37/100 [09:24<18:12, 17.34s/epoch]"
          ]
        },
        {
          "name": "stdout",
          "output_type": "stream",
          "text": [
            "Batch 938/938 - Loss D: -0.2305, loss G: -0.5970\n"
          ]
        },
        {
          "name": "stderr",
          "output_type": "stream",
          "text": [
            "                                                                              \n",
            "Epoch 38/100: 100%|██████████| 938/938 [00:17<00:00, 53.85batch/s]7.34s/epoch]\n",
            "Overall Training Progress:  38%|███▊      | 38/100 [09:41<17:56, 17.37s/epoch]"
          ]
        },
        {
          "name": "stdout",
          "output_type": "stream",
          "text": [
            "Batch 938/938 - Loss D: -0.1426, loss G: -0.4802\n"
          ]
        },
        {
          "name": "stderr",
          "output_type": "stream",
          "text": [
            "                                                                              \n",
            "Epoch 39/100: 100%|██████████| 938/938 [00:17<00:00, 53.55batch/s]7.37s/epoch]\n",
            "Overall Training Progress:  39%|███▉      | 39/100 [09:59<17:42, 17.41s/epoch]"
          ]
        },
        {
          "name": "stdout",
          "output_type": "stream",
          "text": [
            "Batch 938/938 - Loss D: -0.1581, loss G: -0.1215\n"
          ]
        },
        {
          "name": "stderr",
          "output_type": "stream",
          "text": [
            "                                                                              \n",
            "Epoch 40/100: 100%|██████████| 938/938 [00:17<00:00, 54.05batch/s]7.41s/epoch]\n",
            "Overall Training Progress:  40%|████      | 40/100 [10:16<17:23, 17.39s/epoch]"
          ]
        },
        {
          "name": "stdout",
          "output_type": "stream",
          "text": [
            "Batch 938/938 - Loss D: -0.3143, loss G: 0.4276\n"
          ]
        },
        {
          "name": "stderr",
          "output_type": "stream",
          "text": [
            "                                                                              \n",
            "Epoch 41/100: 100%|██████████| 938/938 [00:17<00:00, 54.46batch/s]7.39s/epoch]\n",
            "Overall Training Progress:  41%|████      | 41/100 [10:33<17:03, 17.34s/epoch]"
          ]
        },
        {
          "name": "stdout",
          "output_type": "stream",
          "text": [
            "Batch 938/938 - Loss D: -0.2684, loss G: -0.1811\n"
          ]
        },
        {
          "name": "stderr",
          "output_type": "stream",
          "text": [
            "                                                                              \n",
            "Epoch 42/100: 100%|██████████| 938/938 [00:17<00:00, 54.36batch/s]7.34s/epoch]\n",
            "Overall Training Progress:  42%|████▏     | 42/100 [10:51<16:44, 17.32s/epoch]"
          ]
        },
        {
          "name": "stdout",
          "output_type": "stream",
          "text": [
            "Batch 938/938 - Loss D: -0.4161, loss G: 0.5438\n"
          ]
        },
        {
          "name": "stderr",
          "output_type": "stream",
          "text": [
            "                                                                              \n",
            "Epoch 43/100: 100%|██████████| 938/938 [00:16<00:00, 56.90batch/s]7.32s/epoch]\n",
            "Overall Training Progress:  43%|████▎     | 43/100 [11:07<16:12, 17.07s/epoch]"
          ]
        },
        {
          "name": "stdout",
          "output_type": "stream",
          "text": [
            "Batch 938/938 - Loss D: -0.3221, loss G: -0.3434\n"
          ]
        },
        {
          "name": "stderr",
          "output_type": "stream",
          "text": [
            "                                                                              \n",
            "Epoch 44/100: 100%|██████████| 938/938 [00:13<00:00, 69.41batch/s]7.07s/epoch]\n",
            "Overall Training Progress:  44%|████▍     | 44/100 [11:21<14:56, 16.00s/epoch]"
          ]
        },
        {
          "name": "stdout",
          "output_type": "stream",
          "text": [
            "Batch 938/938 - Loss D: -0.2486, loss G: 0.0638\n"
          ]
        },
        {
          "name": "stderr",
          "output_type": "stream",
          "text": [
            "                                                                              \n",
            "Epoch 45/100: 100%|██████████| 938/938 [00:14<00:00, 65.62batch/s]6.00s/epoch]\n",
            "Overall Training Progress:  45%|████▌     | 45/100 [11:35<14:11, 15.49s/epoch]"
          ]
        },
        {
          "name": "stdout",
          "output_type": "stream",
          "text": [
            "Batch 938/938 - Loss D: -0.1810, loss G: 0.0055\n"
          ]
        },
        {
          "name": "stderr",
          "output_type": "stream",
          "text": [
            "                                                                              \n",
            "Epoch 46/100: 100%|██████████| 938/938 [00:14<00:00, 63.75batch/s]5.49s/epoch]\n",
            "Overall Training Progress:  46%|████▌     | 46/100 [11:50<13:43, 15.26s/epoch]"
          ]
        },
        {
          "name": "stdout",
          "output_type": "stream",
          "text": [
            "Batch 938/938 - Loss D: -0.1076, loss G: -0.2205\n"
          ]
        },
        {
          "name": "stderr",
          "output_type": "stream",
          "text": [
            "                                                                              \n",
            "Epoch 47/100: 100%|██████████| 938/938 [00:14<00:00, 65.02batch/s]5.26s/epoch]\n",
            "Overall Training Progress:  47%|████▋     | 47/100 [12:04<13:15, 15.01s/epoch]"
          ]
        },
        {
          "name": "stdout",
          "output_type": "stream",
          "text": [
            "Batch 938/938 - Loss D: -0.1983, loss G: -0.3689\n"
          ]
        },
        {
          "name": "stderr",
          "output_type": "stream",
          "text": [
            "                                                                              \n",
            "Epoch 48/100: 100%|██████████| 938/938 [00:13<00:00, 67.79batch/s]5.01s/epoch]\n",
            "Overall Training Progress:  48%|████▊     | 48/100 [12:18<12:42, 14.66s/epoch]"
          ]
        },
        {
          "name": "stdout",
          "output_type": "stream",
          "text": [
            "Batch 938/938 - Loss D: -0.1951, loss G: -0.0062\n"
          ]
        },
        {
          "name": "stderr",
          "output_type": "stream",
          "text": [
            "                                                                              \n",
            "Epoch 49/100: 100%|██████████| 938/938 [00:14<00:00, 62.61batch/s]4.66s/epoch]\n",
            "Overall Training Progress:  49%|████▉     | 49/100 [12:33<12:32, 14.76s/epoch]"
          ]
        },
        {
          "name": "stdout",
          "output_type": "stream",
          "text": [
            "Batch 938/938 - Loss D: -0.1370, loss G: -0.2328\n"
          ]
        },
        {
          "name": "stderr",
          "output_type": "stream",
          "text": [
            "                                                                              \n",
            "Epoch 50/100: 100%|██████████| 938/938 [00:13<00:00, 67.16batch/s]4.76s/epoch]\n",
            "Overall Training Progress:  50%|█████     | 50/100 [12:47<12:05, 14.52s/epoch]"
          ]
        },
        {
          "name": "stdout",
          "output_type": "stream",
          "text": [
            "Batch 938/938 - Loss D: -0.1240, loss G: -0.0919\n"
          ]
        },
        {
          "name": "stderr",
          "output_type": "stream",
          "text": [
            "                                                                              \n",
            "Epoch 51/100: 100%|██████████| 938/938 [00:13<00:00, 67.06batch/s]4.52s/epoch]\n",
            "Overall Training Progress:  51%|█████     | 51/100 [13:01<11:43, 14.36s/epoch]"
          ]
        },
        {
          "name": "stdout",
          "output_type": "stream",
          "text": [
            "Batch 938/938 - Loss D: -0.3032, loss G: 0.0839\n"
          ]
        },
        {
          "name": "stderr",
          "output_type": "stream",
          "text": [
            "                                                                              \n",
            "Epoch 52/100: 100%|██████████| 938/938 [00:14<00:00, 65.79batch/s]4.36s/epoch]\n",
            "Overall Training Progress:  52%|█████▏    | 52/100 [13:15<11:27, 14.33s/epoch]"
          ]
        },
        {
          "name": "stdout",
          "output_type": "stream",
          "text": [
            "Batch 938/938 - Loss D: 0.0100, loss G: -0.1032\n"
          ]
        },
        {
          "name": "stderr",
          "output_type": "stream",
          "text": [
            "                                                                              \n",
            "Epoch 53/100: 100%|██████████| 938/938 [00:13<00:00, 68.00batch/s]4.33s/epoch]\n",
            "Overall Training Progress:  53%|█████▎    | 53/100 [13:29<11:05, 14.17s/epoch]"
          ]
        },
        {
          "name": "stdout",
          "output_type": "stream",
          "text": [
            "Batch 938/938 - Loss D: -0.1752, loss G: 0.2888\n"
          ]
        },
        {
          "name": "stderr",
          "output_type": "stream",
          "text": [
            "                                                                              \n",
            "Epoch 54/100: 100%|██████████| 938/938 [00:12<00:00, 73.09batch/s]4.17s/epoch]\n",
            "Overall Training Progress:  54%|█████▍    | 54/100 [13:42<10:33, 13.77s/epoch]"
          ]
        },
        {
          "name": "stdout",
          "output_type": "stream",
          "text": [
            "Batch 938/938 - Loss D: -0.2033, loss G: -0.2184\n"
          ]
        },
        {
          "name": "stderr",
          "output_type": "stream",
          "text": [
            "                                                                              \n",
            "Epoch 55/100: 100%|██████████| 938/938 [00:13<00:00, 69.76batch/s]3.77s/epoch]\n",
            "Overall Training Progress:  55%|█████▌    | 55/100 [13:55<10:15, 13.67s/epoch]"
          ]
        },
        {
          "name": "stdout",
          "output_type": "stream",
          "text": [
            "Batch 938/938 - Loss D: -0.1779, loss G: -0.4520\n"
          ]
        },
        {
          "name": "stderr",
          "output_type": "stream",
          "text": [
            "                                                                              \n",
            "Epoch 56/100: 100%|██████████| 938/938 [00:13<00:00, 68.45batch/s]3.67s/epoch]\n",
            "Overall Training Progress:  56%|█████▌    | 56/100 [14:09<10:02, 13.68s/epoch]"
          ]
        },
        {
          "name": "stdout",
          "output_type": "stream",
          "text": [
            "Batch 938/938 - Loss D: -0.1737, loss G: 0.1938\n"
          ]
        },
        {
          "name": "stderr",
          "output_type": "stream",
          "text": [
            "                                                                              \n",
            "Epoch 57/100: 100%|██████████| 938/938 [00:13<00:00, 67.67batch/s]3.68s/epoch]\n",
            "Overall Training Progress:  57%|█████▋    | 57/100 [14:23<09:50, 13.74s/epoch]"
          ]
        },
        {
          "name": "stdout",
          "output_type": "stream",
          "text": [
            "Batch 938/938 - Loss D: -0.2926, loss G: 0.3619\n"
          ]
        },
        {
          "name": "stderr",
          "output_type": "stream",
          "text": [
            "                                                                              \n",
            "Epoch 58/100: 100%|██████████| 938/938 [00:13<00:00, 70.16batch/s]3.74s/epoch]\n",
            "Overall Training Progress:  58%|█████▊    | 58/100 [14:36<09:32, 13.63s/epoch]"
          ]
        },
        {
          "name": "stdout",
          "output_type": "stream",
          "text": [
            "Batch 938/938 - Loss D: 0.1029, loss G: -1.0703\n"
          ]
        },
        {
          "name": "stderr",
          "output_type": "stream",
          "text": [
            "                                                                              \n",
            "Epoch 59/100: 100%|██████████| 938/938 [00:13<00:00, 70.37batch/s]3.63s/epoch]\n",
            "Overall Training Progress:  59%|█████▉    | 59/100 [14:49<09:15, 13.54s/epoch]"
          ]
        },
        {
          "name": "stdout",
          "output_type": "stream",
          "text": [
            "Batch 938/938 - Loss D: -0.2380, loss G: -0.2598\n"
          ]
        },
        {
          "name": "stderr",
          "output_type": "stream",
          "text": [
            "                                                                              \n",
            "Epoch 60/100: 100%|██████████| 938/938 [00:13<00:00, 68.44batch/s]3.54s/epoch]\n",
            "Overall Training Progress:  60%|██████    | 60/100 [15:03<09:03, 13.59s/epoch]"
          ]
        },
        {
          "name": "stdout",
          "output_type": "stream",
          "text": [
            "Batch 938/938 - Loss D: -0.2334, loss G: 0.1450\n"
          ]
        },
        {
          "name": "stderr",
          "output_type": "stream",
          "text": [
            "                                                                              \n",
            "Epoch 61/100: 100%|██████████| 938/938 [00:13<00:00, 71.97batch/s]3.59s/epoch]\n",
            "Overall Training Progress:  61%|██████    | 61/100 [15:16<08:43, 13.42s/epoch]"
          ]
        },
        {
          "name": "stdout",
          "output_type": "stream",
          "text": [
            "Batch 938/938 - Loss D: -0.3761, loss G: 0.5709\n"
          ]
        },
        {
          "name": "stderr",
          "output_type": "stream",
          "text": [
            "                                                                              \n",
            "Epoch 62/100: 100%|██████████| 938/938 [00:13<00:00, 68.84batch/s]3.42s/epoch]\n",
            "Overall Training Progress:  62%|██████▏   | 62/100 [15:30<08:32, 13.48s/epoch]"
          ]
        },
        {
          "name": "stdout",
          "output_type": "stream",
          "text": [
            "Batch 938/938 - Loss D: -0.4790, loss G: 0.6608\n"
          ]
        },
        {
          "name": "stderr",
          "output_type": "stream",
          "text": [
            "                                                                              \n",
            "Epoch 63/100: 100%|██████████| 938/938 [00:13<00:00, 70.59batch/s]3.48s/epoch]\n",
            "Overall Training Progress:  63%|██████▎   | 63/100 [15:43<08:16, 13.43s/epoch]"
          ]
        },
        {
          "name": "stdout",
          "output_type": "stream",
          "text": [
            "Batch 938/938 - Loss D: -0.2606, loss G: -0.8682\n"
          ]
        },
        {
          "name": "stderr",
          "output_type": "stream",
          "text": [
            "                                                                              \n",
            "Epoch 64/100: 100%|██████████| 938/938 [00:14<00:00, 66.65batch/s]3.43s/epoch]\n",
            "Overall Training Progress:  64%|██████▍   | 64/100 [15:57<08:10, 13.62s/epoch]"
          ]
        },
        {
          "name": "stdout",
          "output_type": "stream",
          "text": [
            "Batch 938/938 - Loss D: -0.1646, loss G: -0.9363\n"
          ]
        },
        {
          "name": "stderr",
          "output_type": "stream",
          "text": [
            "                                                                              \n",
            "Epoch 65/100: 100%|██████████| 938/938 [00:14<00:00, 66.91batch/s]3.62s/epoch]\n",
            "Overall Training Progress:  65%|██████▌   | 65/100 [16:11<08:00, 13.74s/epoch]"
          ]
        },
        {
          "name": "stdout",
          "output_type": "stream",
          "text": [
            "Batch 938/938 - Loss D: -0.2663, loss G: 0.4075\n"
          ]
        },
        {
          "name": "stderr",
          "output_type": "stream",
          "text": [
            "                                                                              \n",
            "Epoch 66/100: 100%|██████████| 938/938 [00:13<00:00, 71.20batch/s]3.74s/epoch]\n",
            "Overall Training Progress:  66%|██████▌   | 66/100 [16:24<07:41, 13.57s/epoch]"
          ]
        },
        {
          "name": "stdout",
          "output_type": "stream",
          "text": [
            "Batch 938/938 - Loss D: -0.2058, loss G: 0.7560\n"
          ]
        },
        {
          "name": "stderr",
          "output_type": "stream",
          "text": [
            "                                                                              \n",
            "Epoch 67/100: 100%|██████████| 938/938 [00:13<00:00, 71.28batch/s]3.57s/epoch]\n",
            "Overall Training Progress:  67%|██████▋   | 67/100 [16:38<07:23, 13.45s/epoch]"
          ]
        },
        {
          "name": "stdout",
          "output_type": "stream",
          "text": [
            "Batch 938/938 - Loss D: -0.1574, loss G: -0.3456\n"
          ]
        },
        {
          "name": "stderr",
          "output_type": "stream",
          "text": [
            "                                                                              \n",
            "Epoch 68/100: 100%|██████████| 938/938 [00:13<00:00, 69.60batch/s]3.45s/epoch]\n",
            "Overall Training Progress:  68%|██████▊   | 68/100 [16:51<07:10, 13.46s/epoch]"
          ]
        },
        {
          "name": "stdout",
          "output_type": "stream",
          "text": [
            "Batch 938/938 - Loss D: -0.1313, loss G: -0.9934\n"
          ]
        },
        {
          "name": "stderr",
          "output_type": "stream",
          "text": [
            "                                                                              \n",
            "Epoch 69/100: 100%|██████████| 938/938 [00:13<00:00, 71.68batch/s]3.46s/epoch]\n",
            "Overall Training Progress:  69%|██████▉   | 69/100 [17:04<06:53, 13.35s/epoch]"
          ]
        },
        {
          "name": "stdout",
          "output_type": "stream",
          "text": [
            "Batch 938/938 - Loss D: -0.3001, loss G: 0.3786\n"
          ]
        },
        {
          "name": "stderr",
          "output_type": "stream",
          "text": [
            "                                                                              \n",
            "Epoch 70/100: 100%|██████████| 938/938 [00:12<00:00, 73.01batch/s]3.35s/epoch]\n",
            "Overall Training Progress:  70%|███████   | 70/100 [17:17<06:35, 13.20s/epoch]"
          ]
        },
        {
          "name": "stdout",
          "output_type": "stream",
          "text": [
            "Batch 938/938 - Loss D: -0.1739, loss G: 0.1085\n"
          ]
        },
        {
          "name": "stderr",
          "output_type": "stream",
          "text": [
            "                                                                              \n",
            "Epoch 71/100: 100%|██████████| 938/938 [00:15<00:00, 61.49batch/s]3.20s/epoch]\n",
            "Overall Training Progress:  71%|███████   | 71/100 [17:32<06:40, 13.81s/epoch]"
          ]
        },
        {
          "name": "stdout",
          "output_type": "stream",
          "text": [
            "Batch 938/938 - Loss D: -0.0578, loss G: -0.0395\n"
          ]
        },
        {
          "name": "stderr",
          "output_type": "stream",
          "text": [
            "                                                                              \n",
            "Epoch 72/100: 100%|██████████| 938/938 [00:18<00:00, 49.83batch/s]3.81s/epoch]\n",
            "Overall Training Progress:  72%|███████▏  | 72/100 [17:51<07:08, 15.32s/epoch]"
          ]
        },
        {
          "name": "stdout",
          "output_type": "stream",
          "text": [
            "Batch 938/938 - Loss D: -0.2700, loss G: -0.0675\n"
          ]
        },
        {
          "name": "stderr",
          "output_type": "stream",
          "text": [
            "                                                                              \n",
            "Epoch 73/100: 100%|██████████| 938/938 [00:37<00:00, 25.12batch/s]5.32s/epoch]\n",
            "Overall Training Progress:  73%|███████▎  | 73/100 [18:28<09:51, 21.93s/epoch]"
          ]
        },
        {
          "name": "stdout",
          "output_type": "stream",
          "text": [
            "Batch 938/938 - Loss D: -0.3369, loss G: -0.7967\n"
          ]
        },
        {
          "name": "stderr",
          "output_type": "stream",
          "text": [
            "                                                                              \n",
            "Epoch 74/100: 100%|██████████| 938/938 [00:17<00:00, 53.90batch/s]1.93s/epoch]\n",
            "Overall Training Progress:  74%|███████▍  | 74/100 [18:46<08:54, 20.57s/epoch]"
          ]
        },
        {
          "name": "stdout",
          "output_type": "stream",
          "text": [
            "Batch 938/938 - Loss D: -0.0884, loss G: 0.0207\n"
          ]
        },
        {
          "name": "stderr",
          "output_type": "stream",
          "text": [
            "                                                                              \n",
            "Epoch 75/100: 100%|██████████| 938/938 [00:17<00:00, 53.16batch/s]0.57s/epoch]\n",
            "Overall Training Progress:  75%|███████▌  | 75/100 [19:03<08:12, 19.69s/epoch]"
          ]
        },
        {
          "name": "stdout",
          "output_type": "stream",
          "text": [
            "Batch 938/938 - Loss D: -0.4432, loss G: -0.6850\n"
          ]
        },
        {
          "name": "stderr",
          "output_type": "stream",
          "text": [
            "                                                                              \n",
            "Epoch 76/100: 100%|██████████| 938/938 [00:17<00:00, 52.89batch/s]9.69s/epoch]\n",
            "Overall Training Progress:  76%|███████▌  | 76/100 [19:21<07:38, 19.11s/epoch]"
          ]
        },
        {
          "name": "stdout",
          "output_type": "stream",
          "text": [
            "Batch 938/938 - Loss D: -0.1632, loss G: 0.3689\n"
          ]
        },
        {
          "name": "stderr",
          "output_type": "stream",
          "text": [
            "                                                                              \n",
            "Epoch 77/100: 100%|██████████| 938/938 [00:17<00:00, 52.92batch/s]9.11s/epoch]\n",
            "Overall Training Progress:  77%|███████▋  | 77/100 [19:39<07:09, 18.69s/epoch]"
          ]
        },
        {
          "name": "stdout",
          "output_type": "stream",
          "text": [
            "Batch 938/938 - Loss D: -0.3015, loss G: -0.0997\n"
          ]
        },
        {
          "name": "stderr",
          "output_type": "stream",
          "text": [
            "                                                                              \n",
            "Epoch 78/100: 100%|██████████| 938/938 [00:17<00:00, 55.02batch/s]8.69s/epoch]\n",
            "Overall Training Progress:  78%|███████▊  | 78/100 [19:56<06:40, 18.20s/epoch]"
          ]
        },
        {
          "name": "stdout",
          "output_type": "stream",
          "text": [
            "Batch 938/938 - Loss D: -0.1405, loss G: 0.3568\n"
          ]
        },
        {
          "name": "stderr",
          "output_type": "stream",
          "text": [
            "                                                                              \n",
            "Epoch 79/100: 100%|██████████| 938/938 [00:18<00:00, 51.80batch/s]8.20s/epoch]\n",
            "Overall Training Progress:  79%|███████▉  | 79/100 [20:14<06:21, 18.17s/epoch]"
          ]
        },
        {
          "name": "stdout",
          "output_type": "stream",
          "text": [
            "Batch 938/938 - Loss D: -0.2040, loss G: -0.3731\n"
          ]
        },
        {
          "name": "stderr",
          "output_type": "stream",
          "text": [
            "                                                                              \n",
            "Epoch 80/100: 100%|██████████| 938/938 [00:17<00:00, 52.76batch/s]8.17s/epoch]\n",
            "Overall Training Progress:  80%|████████  | 80/100 [20:32<06:01, 18.05s/epoch]"
          ]
        },
        {
          "name": "stdout",
          "output_type": "stream",
          "text": [
            "Batch 938/938 - Loss D: -0.0198, loss G: -0.5938\n"
          ]
        },
        {
          "name": "stderr",
          "output_type": "stream",
          "text": [
            "                                                                              \n",
            "Epoch 81/100: 100%|██████████| 938/938 [00:17<00:00, 53.11batch/s]8.05s/epoch]\n",
            "Overall Training Progress:  81%|████████  | 81/100 [20:49<05:40, 17.94s/epoch]"
          ]
        },
        {
          "name": "stdout",
          "output_type": "stream",
          "text": [
            "Batch 938/938 - Loss D: -0.1377, loss G: -0.3301\n"
          ]
        },
        {
          "name": "stderr",
          "output_type": "stream",
          "text": [
            "                                                                              \n",
            "Epoch 82/100: 100%|██████████| 938/938 [00:17<00:00, 53.71batch/s]7.94s/epoch]\n",
            "Overall Training Progress:  82%|████████▏ | 82/100 [21:07<05:20, 17.80s/epoch]"
          ]
        },
        {
          "name": "stdout",
          "output_type": "stream",
          "text": [
            "Batch 938/938 - Loss D: -0.1578, loss G: -0.2178\n"
          ]
        },
        {
          "name": "stderr",
          "output_type": "stream",
          "text": [
            "                                                                              \n",
            "Epoch 83/100: 100%|██████████| 938/938 [00:17<00:00, 54.76batch/s]7.80s/epoch]\n",
            "Overall Training Progress:  83%|████████▎ | 83/100 [21:24<04:59, 17.60s/epoch]"
          ]
        },
        {
          "name": "stdout",
          "output_type": "stream",
          "text": [
            "Batch 938/938 - Loss D: -0.2021, loss G: 0.6026\n"
          ]
        },
        {
          "name": "stderr",
          "output_type": "stream",
          "text": [
            "                                                                              \n",
            "Epoch 84/100: 100%|██████████| 938/938 [00:17<00:00, 52.89batch/s]7.60s/epoch]\n",
            "Overall Training Progress:  84%|████████▍ | 84/100 [21:42<04:42, 17.64s/epoch]"
          ]
        },
        {
          "name": "stdout",
          "output_type": "stream",
          "text": [
            "Batch 938/938 - Loss D: -0.1979, loss G: -0.4962\n"
          ]
        },
        {
          "name": "stderr",
          "output_type": "stream",
          "text": [
            "                                                                              \n",
            "Epoch 85/100: 100%|██████████| 938/938 [00:16<00:00, 57.66batch/s]7.64s/epoch]\n",
            "Overall Training Progress:  85%|████████▌ | 85/100 [21:58<04:18, 17.23s/epoch]"
          ]
        },
        {
          "name": "stdout",
          "output_type": "stream",
          "text": [
            "Batch 938/938 - Loss D: -0.1543, loss G: -0.3505\n"
          ]
        },
        {
          "name": "stderr",
          "output_type": "stream",
          "text": [
            "                                                                              \n",
            "Epoch 86/100: 100%|██████████| 938/938 [00:13<00:00, 71.03batch/s]7.23s/epoch]\n",
            "Overall Training Progress:  86%|████████▌ | 86/100 [22:11<03:44, 16.02s/epoch]"
          ]
        },
        {
          "name": "stdout",
          "output_type": "stream",
          "text": [
            "Batch 938/938 - Loss D: -0.0884, loss G: 0.0421\n"
          ]
        },
        {
          "name": "stderr",
          "output_type": "stream",
          "text": [
            "                                                                              \n",
            "Epoch 87/100: 100%|██████████| 938/938 [00:14<00:00, 64.21batch/s]6.02s/epoch]\n",
            "Overall Training Progress:  87%|████████▋ | 87/100 [22:26<03:22, 15.60s/epoch]"
          ]
        },
        {
          "name": "stdout",
          "output_type": "stream",
          "text": [
            "Batch 938/938 - Loss D: -0.1790, loss G: 0.1120\n"
          ]
        },
        {
          "name": "stderr",
          "output_type": "stream",
          "text": [
            "                                                                              \n",
            "Epoch 88/100: 100%|██████████| 938/938 [00:16<00:00, 56.35batch/s]5.60s/epoch]\n",
            "Overall Training Progress:  88%|████████▊ | 88/100 [22:43<03:10, 15.91s/epoch]"
          ]
        },
        {
          "name": "stdout",
          "output_type": "stream",
          "text": [
            "Batch 938/938 - Loss D: 0.0885, loss G: 0.3108\n"
          ]
        },
        {
          "name": "stderr",
          "output_type": "stream",
          "text": [
            "                                                                              \n",
            "Epoch 89/100: 100%|██████████| 938/938 [00:16<00:00, 58.35batch/s]5.91s/epoch]\n",
            "Overall Training Progress:  89%|████████▉ | 89/100 [22:59<02:55, 15.96s/epoch]"
          ]
        },
        {
          "name": "stdout",
          "output_type": "stream",
          "text": [
            "Batch 938/938 - Loss D: -0.2275, loss G: -1.7750\n"
          ]
        },
        {
          "name": "stderr",
          "output_type": "stream",
          "text": [
            "                                                                              \n",
            "Epoch 90/100: 100%|██████████| 938/938 [00:15<00:00, 58.86batch/s]5.96s/epoch]\n",
            "Overall Training Progress:  90%|█████████ | 90/100 [23:15<02:39, 15.95s/epoch]"
          ]
        },
        {
          "name": "stdout",
          "output_type": "stream",
          "text": [
            "Batch 938/938 - Loss D: -0.0578, loss G: -0.1856\n"
          ]
        },
        {
          "name": "stderr",
          "output_type": "stream",
          "text": [
            "                                                                              \n",
            "Epoch 91/100: 100%|██████████| 938/938 [00:15<00:00, 59.29batch/s]5.95s/epoch]\n",
            "Overall Training Progress:  91%|█████████ | 91/100 [23:30<02:23, 15.91s/epoch]"
          ]
        },
        {
          "name": "stdout",
          "output_type": "stream",
          "text": [
            "Batch 938/938 - Loss D: -0.1639, loss G: -0.8965\n"
          ]
        },
        {
          "name": "stderr",
          "output_type": "stream",
          "text": [
            "                                                                              \n",
            "Epoch 92/100: 100%|██████████| 938/938 [00:16<00:00, 57.99batch/s]5.91s/epoch]\n",
            "Overall Training Progress:  92%|█████████▏| 92/100 [23:47<02:07, 15.99s/epoch]"
          ]
        },
        {
          "name": "stdout",
          "output_type": "stream",
          "text": [
            "Batch 938/938 - Loss D: -0.5398, loss G: -0.7435\n"
          ]
        },
        {
          "name": "stderr",
          "output_type": "stream",
          "text": [
            "                                                                              \n",
            "Epoch 93/100: 100%|██████████| 938/938 [00:16<00:00, 58.07batch/s]5.99s/epoch]\n",
            "Overall Training Progress:  93%|█████████▎| 93/100 [24:03<01:52, 16.04s/epoch]"
          ]
        },
        {
          "name": "stdout",
          "output_type": "stream",
          "text": [
            "Batch 938/938 - Loss D: -0.4325, loss G: 1.5964\n"
          ]
        },
        {
          "name": "stderr",
          "output_type": "stream",
          "text": [
            "                                                                              \n",
            "Epoch 94/100: 100%|██████████| 938/938 [00:15<00:00, 58.91batch/s]6.04s/epoch]\n",
            "Overall Training Progress:  94%|█████████▍| 94/100 [24:19<01:36, 16.01s/epoch]"
          ]
        },
        {
          "name": "stdout",
          "output_type": "stream",
          "text": [
            "Batch 938/938 - Loss D: -0.2511, loss G: 0.9210\n"
          ]
        },
        {
          "name": "stderr",
          "output_type": "stream",
          "text": [
            "                                                                              \n",
            "Epoch 95/100: 100%|██████████| 938/938 [00:16<00:00, 58.33batch/s]6.01s/epoch]\n",
            "Overall Training Progress:  95%|█████████▌| 95/100 [24:35<01:20, 16.03s/epoch]"
          ]
        },
        {
          "name": "stdout",
          "output_type": "stream",
          "text": [
            "Batch 938/938 - Loss D: -0.2301, loss G: -0.4054\n"
          ]
        },
        {
          "name": "stderr",
          "output_type": "stream",
          "text": [
            "                                                                              \n",
            "Epoch 96/100: 100%|██████████| 938/938 [00:16<00:00, 56.71batch/s]6.03s/epoch]\n",
            "Overall Training Progress:  96%|█████████▌| 96/100 [24:51<01:04, 16.18s/epoch]"
          ]
        },
        {
          "name": "stdout",
          "output_type": "stream",
          "text": [
            "Batch 938/938 - Loss D: 0.2603, loss G: 0.2971\n"
          ]
        },
        {
          "name": "stderr",
          "output_type": "stream",
          "text": [
            "                                                                              \n",
            "Epoch 97/100: 100%|██████████| 938/938 [00:16<00:00, 56.71batch/s]6.18s/epoch]\n",
            "Overall Training Progress:  97%|█████████▋| 97/100 [25:08<00:48, 16.29s/epoch]"
          ]
        },
        {
          "name": "stdout",
          "output_type": "stream",
          "text": [
            "Batch 938/938 - Loss D: -0.2711, loss G: 0.2489\n"
          ]
        },
        {
          "name": "stderr",
          "output_type": "stream",
          "text": [
            "                                                                              \n",
            "Epoch 98/100: 100%|██████████| 938/938 [00:16<00:00, 56.95batch/s]6.29s/epoch]\n",
            "Overall Training Progress:  98%|█████████▊| 98/100 [25:24<00:32, 16.34s/epoch]"
          ]
        },
        {
          "name": "stdout",
          "output_type": "stream",
          "text": [
            "Batch 938/938 - Loss D: 0.0887, loss G: 0.2170\n"
          ]
        },
        {
          "name": "stderr",
          "output_type": "stream",
          "text": [
            "                                                                              \n",
            "Epoch 99/100: 100%|██████████| 938/938 [00:16<00:00, 56.31batch/s]6.34s/epoch]\n",
            "Overall Training Progress:  99%|█████████▉| 99/100 [25:41<00:16, 16.44s/epoch]"
          ]
        },
        {
          "name": "stdout",
          "output_type": "stream",
          "text": [
            "Batch 938/938 - Loss D: 0.1066, loss G: -0.5646\n"
          ]
        },
        {
          "name": "stderr",
          "output_type": "stream",
          "text": [
            "                                                                              \n",
            "Epoch 100/100: 100%|██████████| 938/938 [00:16<00:00, 56.82batch/s].44s/epoch]\n",
            "Overall Training Progress: 100%|██████████| 100/100 [25:57<00:00, 15.58s/epoch]"
          ]
        },
        {
          "name": "stdout",
          "output_type": "stream",
          "text": [
            "Batch 938/938 - Loss D: -0.1199, loss G: 0.2810\n"
          ]
        },
        {
          "name": "stderr",
          "output_type": "stream",
          "text": [
            "\n"
          ]
        }
      ],
      "source": [
        "losses_critic_wgan = []\n",
        "losses_generator_wgan = []\n",
        "train_loader_len = len(train_loader)\n",
        "\n",
        "\n",
        "# Training loop\n",
        "with tqdm(total=config.num_epochs, desc=\"Overall Training Progress\", unit='epoch') as pbar_outer:\n",
        "    for epoch in range(config.num_epochs):\n",
        "        # Inner progress bar for the current epoch\n",
        "        with tqdm(total=train_loader_len, desc=f\"Epoch {epoch + 1}/{config.num_epochs}\", unit='batch') as pbar_inner:\n",
        "            for i, (images, _) in enumerate(train_loader):\n",
        "\n",
        "                # Working with real images\n",
        "                real_images = images.to(device)\n",
        "                real_images = real_images.view(real_images.size(0), -1)\n",
        "                batch_size = real_images.size(0)\n",
        "\n",
        "                # Critic training\n",
        "                for _ in range(config.critic_iter):\n",
        "                    critic.zero_grad()\n",
        "\n",
        "                    # Real images\n",
        "                    real_pred = critic(real_images)\n",
        "                    real_loss = -torch.mean(real_pred)\n",
        "\n",
        "                    # Generate fake images and noises\n",
        "                    z = torch.randn(batch_size, config.noise_dim, device=device)\n",
        "                    fake_images = generator(z)\n",
        "                    fake_pred = critic(fake_images.detach())\n",
        "                    fake_loss = torch.mean(fake_pred)\n",
        "\n",
        "                    # Overall loss and optimization step\n",
        "                    critic_loss = real_loss + fake_loss\n",
        "                    critic_loss.backward()\n",
        "                    optim_critic.step()\n",
        "\n",
        "                    # Clip weights\n",
        "                    weight_clipping(critic, config.clip_value)\n",
        "\n",
        "                # Generator training\n",
        "                generator.zero_grad()\n",
        "\n",
        "                # Getting critic's score for generated images\n",
        "                gen_pred = critic(fake_images)\n",
        "                generator_loss = -torch.mean(gen_pred)\n",
        "\n",
        "                generator_loss.backward()\n",
        "                optim_generator.step()\n",
        "\n",
        "                # Saving loss values\n",
        "                losses_critic_wgan.append(critic_loss.item())\n",
        "                losses_generator_wgan.append(generator_loss.item())\n",
        "                \n",
        "\n",
        "                # Update the inner progress bar after each batch\n",
        "                pbar_inner.update(1)\n",
        "\n",
        "                # Optional: print losses without breaking the progress bar layout\n",
        "                if i == train_loader_len - 1:\n",
        "                    pbar_inner.write(f\"Batch {i + 1}/{train_loader_len} - Loss D: {critic_loss.item():.4f}, loss G: {generator_loss.item():.4f}\")\n",
        "        # Update the outer progress bar after each epoch\n",
        "        pbar_outer.update(1)"
      ]
    },
    {
      "cell_type": "markdown",
      "metadata": {},
      "source": [
        "### Plot the loss"
      ]
    },
    {
      "cell_type": "code",
      "execution_count": 13,
      "metadata": {},
      "outputs": [
        {
          "data": {
            "image/png": "[encoded data removed]",
            "text/plain": [
              "<Figure size 1000x500 with 1 Axes>"
            ]
          },
          "metadata": {},
          "output_type": "display_data"
        }
      ],
      "source": [
        "plot_loss(losses_generator_wgan, losses_critic_wgan, \"Generator and Critic Loss During Training (WGAN)\")"
      ]
    },
    {
      "cell_type": "markdown",
      "metadata": {},
      "source": [
        "### Visualize the generated images"
      ]
    },
    {
      "cell_type": "code",
      "execution_count": 14,
      "metadata": {
        "colab": {
          "base_uri": "https://localhost:8080/",
          "height": 653
        },
        "id": "lXIXfdo3TYhA",
        "outputId": "857e51bd-72ac-4318-b604-699bb38673b8"
      },
      "outputs": [
        {
          "data": {
            "image/png": "[encoded data removed]",
            "text/plain": [
              "<Figure size 800x800 with 16 Axes>"
            ]
          },
          "metadata": {},
          "output_type": "display_data"
        }
      ],
      "source": [
        "generate_images(generator=generator, label=7, config=config, device=device)"
      ]
    },
    {
      "cell_type": "markdown",
      "metadata": {
        "id": "yrIp3v94TYhA"
      },
      "source": [
        "## Coditional GANs"
      ]
    },
    {
      "cell_type": "markdown",
      "metadata": {},
      "source": [
        "### Define a Conditional Generator class"
      ]
    },
    {
      "cell_type": "code",
      "execution_count": 15,
      "metadata": {},
      "outputs": [],
      "source": [
        "class ConditionalGenerator(nn.Module):\n",
        "    def __init__(self):\n",
        "        \"\"\"\n",
        "        Conditional Generator class for generating images based on given labels.\n",
        "\n",
        "        Args:\n",
        "            None\n",
        "\n",
        "        Returns:\n",
        "            None\n",
        "        \"\"\"\n",
        "        super(ConditionalGenerator, self).__init__()\n",
        "        self.label_emb = nn.Embedding(10, 10)\n",
        "\n",
        "        self.model = nn.Sequential(\n",
        "            nn.Linear(config.noise_dim + 10, 256),\n",
        "            nn.LeakyReLU(0.2, inplace=True),\n",
        "            nn.Linear(256, 512),\n",
        "            nn.LeakyReLU(0.2, inplace=True),\n",
        "            nn.Linear(512, 1024),\n",
        "            nn.LeakyReLU(0.2, inplace=True),\n",
        "            nn.Linear(1024, 28*28),\n",
        "            nn.Tanh())\n",
        "\n",
        "    def forward(self, z, labels):\n",
        "        \"\"\"\n",
        "        Forward pass of the Conditional Generator.\n",
        "\n",
        "        Args:\n",
        "            z (torch.Tensor): Input noise tensor of shape (batch_size, noise_dim).\n",
        "            labels (torch.Tensor): Input label tensor of shape (batch_size).\n",
        "\n",
        "        Returns:\n",
        "            torch.Tensor: Generated image tensor of shape (batch_size, 28*28).\n",
        "        \"\"\"\n",
        "        c = self.label_emb(labels)\n",
        "        x = torch.cat([z, c], 1)\n",
        "        return self.model(x)\n"
      ]
    },
    {
      "cell_type": "markdown",
      "metadata": {},
      "source": [
        "### Define a Conditional Critic class"
      ]
    },
    {
      "cell_type": "code",
      "execution_count": 16,
      "metadata": {
        "id": "I92BqQqiTYhA"
      },
      "outputs": [],
      "source": [
        "class ConditionalCritic(nn.Module):\n",
        "    \"\"\"\n",
        "    ConditionalCritic class represents a critic network for conditional GANs.\n",
        "\n",
        "    Args:\n",
        "        None\n",
        "\n",
        "    Attributes:\n",
        "        label_emb (nn.Embedding): Embedding layer for label embeddings.\n",
        "        model (nn.Sequential): Sequential model for the critic network.\n",
        "\n",
        "    Methods:\n",
        "        forward(img, labels): Performs forward pass of the critic network.\n",
        "\n",
        "    \"\"\"\n",
        "\n",
        "    def __init__(self):\n",
        "        super(ConditionalCritic, self).__init__()\n",
        "        self.label_emb = nn.Embedding(10, 10)\n",
        "\n",
        "        self.model = nn.Sequential(\n",
        "            nn.Linear(28*28 + 10, 512),\n",
        "            nn.LeakyReLU(0.2, inplace=True),\n",
        "            nn.Linear(512, 256),\n",
        "            nn.LeakyReLU(0.2, inplace=True),\n",
        "            nn.Linear(256, 1))\n",
        "\n",
        "    def forward(self, img, labels):\n",
        "        \"\"\"\n",
        "        Performs forward pass of the critic network.\n",
        "\n",
        "        Args:\n",
        "            img (torch.Tensor): Input image tensor.\n",
        "            labels (torch.Tensor): Input label tensor.\n",
        "\n",
        "        Returns:\n",
        "            torch.Tensor: Output tensor from the critic network.\n",
        "\n",
        "        \"\"\"\n",
        "        # Embed labels and concatenate them with the image\n",
        "        c = self.label_emb(labels)\n",
        "        x = torch.cat([img.view(img.size(0), -1), c], 1)\n",
        "        return self.model(x)\n"
      ]
    },
    {
      "cell_type": "markdown",
      "metadata": {},
      "source": [
        "### Initialize conditional GAN"
      ]
    },
    {
      "cell_type": "code",
      "execution_count": 17,
      "metadata": {
        "id": "EtarJgkcTYhB"
      },
      "outputs": [],
      "source": [
        "conditional_generator = ConditionalGenerator().to(device)\n",
        "conditional_critic = ConditionalCritic().to(device)"
      ]
    },
    {
      "cell_type": "markdown",
      "metadata": {},
      "source": [
        "### Initializing Optimizers for Conditional Models"
      ]
    },
    {
      "cell_type": "code",
      "execution_count": 18,
      "metadata": {},
      "outputs": [],
      "source": [
        "optim_conditional_critic = optim.RMSprop(conditional_critic.parameters(), lr=config.lr)\n",
        "optim_conditional_generator = optim.RMSprop(conditional_generator.parameters(), lr=config.lr)"
      ]
    },
    {
      "cell_type": "markdown",
      "metadata": {},
      "source": [
        "### Conditional GAN Training"
      ]
    },
    {
      "cell_type": "code",
      "execution_count": 19,
      "metadata": {},
      "outputs": [],
      "source": [
        "def update_progress_bars(pbar_inner, pbar_outer, epoch, i, train_loader_len, critic_loss, generator_loss):\n",
        "    # Update the inner progress bar after each batch\n",
        "    pbar_inner.update(1)\n",
        "    \n",
        "    # Optional: print losses without breaking the progress bar layout\n",
        "    if i == train_loader_len - 1:\n",
        "        pbar_inner.write(f\"Batch {i + 1}/{train_loader_len} - Loss D: {critic_loss.item():.4f}, loss G: {generator_loss.item():.4f}\")\n"
      ]
    },
    {
      "cell_type": "code",
      "execution_count": 20,
      "metadata": {
        "colab": {
          "base_uri": "https://localhost:8080/"
        },
        "id": "xUSzQogLTYhB",
        "outputId": "d6aa6a0c-af1c-45f5-fb6b-b344db907f98"
      },
      "outputs": [
        {
          "name": "stderr",
          "output_type": "stream",
          "text": [
            "Conditional GAN Overall Training Progress:   0%|          | 0/100 [00:00<?, ?epoch/s]"
          ]
        },
        {
          "name": "stderr",
          "output_type": "stream",
          "text": [
            "\n",
            "Epoch 1/100: 100%|██████████| 938/938 [00:18<00:00, 51.46batch/s] [00:18<?, ?epoch/s]\n",
            "Conditional GAN Overall Training Progress:   1%|          | 1/100 [00:18<30:04, 18.23s/epoch]"
          ]
        },
        {
          "name": "stdout",
          "output_type": "stream",
          "text": [
            "Batch 938/938 - Loss D: -2.7978, loss G: 1.9437\n"
          ]
        },
        {
          "name": "stderr",
          "output_type": "stream",
          "text": [
            "\n",
            "Epoch 2/100: 100%|██████████| 938/938 [00:18<00:00, 51.66batch/s] [00:36<30:04, 18.23s/epoch]\n",
            "Conditional GAN Overall Training Progress:   2%|▏         | 2/100 [00:36<29:42, 18.19s/epoch]"
          ]
        },
        {
          "name": "stdout",
          "output_type": "stream",
          "text": [
            "Batch 938/938 - Loss D: -0.0900, loss G: 2.5595\n"
          ]
        },
        {
          "name": "stderr",
          "output_type": "stream",
          "text": [
            "\n",
            "Epoch 3/100: 100%|██████████| 938/938 [00:17<00:00, 52.39batch/s] [00:54<29:42, 18.19s/epoch]\n",
            "Conditional GAN Overall Training Progress:   3%|▎         | 3/100 [00:54<29:11, 18.06s/epoch]"
          ]
        },
        {
          "name": "stdout",
          "output_type": "stream",
          "text": [
            "Batch 938/938 - Loss D: -0.9817, loss G: -2.3931\n"
          ]
        },
        {
          "name": "stderr",
          "output_type": "stream",
          "text": [
            "\n",
            "Epoch 4/100: 100%|██████████| 938/938 [00:17<00:00, 52.16batch/s] [01:12<29:11, 18.06s/epoch]\n",
            "Conditional GAN Overall Training Progress:   4%|▍         | 4/100 [01:12<28:50, 18.03s/epoch]"
          ]
        },
        {
          "name": "stdout",
          "output_type": "stream",
          "text": [
            "Batch 938/938 - Loss D: -2.0467, loss G: 1.2167\n"
          ]
        },
        {
          "name": "stderr",
          "output_type": "stream",
          "text": [
            "\n",
            "Epoch 5/100: 100%|██████████| 938/938 [00:18<00:00, 51.05batch/s] [01:30<28:50, 18.03s/epoch]\n",
            "Conditional GAN Overall Training Progress:   5%|▌         | 5/100 [01:30<28:44, 18.15s/epoch]"
          ]
        },
        {
          "name": "stdout",
          "output_type": "stream",
          "text": [
            "Batch 938/938 - Loss D: -1.4328, loss G: -0.9898\n"
          ]
        },
        {
          "name": "stderr",
          "output_type": "stream",
          "text": [
            "\n",
            "Epoch 6/100: 100%|██████████| 938/938 [00:18<00:00, 51.13batch/s] [01:48<28:44, 18.15s/epoch]\n",
            "Conditional GAN Overall Training Progress:   6%|▌         | 6/100 [01:48<28:32, 18.22s/epoch]"
          ]
        },
        {
          "name": "stdout",
          "output_type": "stream",
          "text": [
            "Batch 938/938 - Loss D: -1.3353, loss G: -0.9199\n"
          ]
        },
        {
          "name": "stderr",
          "output_type": "stream",
          "text": [
            "\n",
            "Epoch 7/100: 100%|██████████| 938/938 [00:18<00:00, 51.52batch/s] [02:07<28:32, 18.22s/epoch]\n",
            "Conditional GAN Overall Training Progress:   7%|▋         | 7/100 [02:07<28:14, 18.22s/epoch]"
          ]
        },
        {
          "name": "stdout",
          "output_type": "stream",
          "text": [
            "Batch 938/938 - Loss D: -0.8768, loss G: -1.1372\n"
          ]
        },
        {
          "name": "stderr",
          "output_type": "stream",
          "text": [
            "\n",
            "Epoch 8/100: 100%|██████████| 938/938 [00:18<00:00, 50.91batch/s] [02:25<28:14, 18.22s/epoch]\n",
            "Conditional GAN Overall Training Progress:   8%|▊         | 8/100 [02:25<28:01, 18.28s/epoch]"
          ]
        },
        {
          "name": "stdout",
          "output_type": "stream",
          "text": [
            "Batch 938/938 - Loss D: -0.8058, loss G: -1.1979\n"
          ]
        },
        {
          "name": "stderr",
          "output_type": "stream",
          "text": [
            "\n",
            "Epoch 9/100: 100%|██████████| 938/938 [00:18<00:00, 52.07batch/s] [02:43<28:01, 18.28s/epoch]\n",
            "Conditional GAN Overall Training Progress:   9%|▉         | 9/100 [02:43<27:36, 18.20s/epoch]"
          ]
        },
        {
          "name": "stdout",
          "output_type": "stream",
          "text": [
            "Batch 938/938 - Loss D: -0.7276, loss G: -1.1779\n"
          ]
        },
        {
          "name": "stderr",
          "output_type": "stream",
          "text": [
            "\n",
            "Epoch 10/100: 100%|██████████| 938/938 [00:17<00:00, 52.52batch/s][03:01<27:36, 18.20s/epoch]\n",
            "Conditional GAN Overall Training Progress:  10%|█         | 10/100 [03:01<27:08, 18.09s/epoch]"
          ]
        },
        {
          "name": "stdout",
          "output_type": "stream",
          "text": [
            "Batch 938/938 - Loss D: -0.5516, loss G: -0.8411\n"
          ]
        },
        {
          "name": "stderr",
          "output_type": "stream",
          "text": [
            "\n",
            "Epoch 11/100: 100%|██████████| 938/938 [00:17<00:00, 52.82batch/s] [03:19<27:08, 18.09s/epoch]\n",
            "Conditional GAN Overall Training Progress:  11%|█         | 11/100 [03:19<26:41, 17.99s/epoch]"
          ]
        },
        {
          "name": "stdout",
          "output_type": "stream",
          "text": [
            "Batch 938/938 - Loss D: -0.6323, loss G: -1.0517\n"
          ]
        },
        {
          "name": "stderr",
          "output_type": "stream",
          "text": [
            "\n",
            "Epoch 12/100: 100%|██████████| 938/938 [00:18<00:00, 51.87batch/s] [03:37<26:41, 17.99s/epoch]\n",
            "Conditional GAN Overall Training Progress:  12%|█▏        | 12/100 [03:37<26:25, 18.02s/epoch]"
          ]
        },
        {
          "name": "stdout",
          "output_type": "stream",
          "text": [
            "Batch 938/938 - Loss D: -0.5148, loss G: -0.9668\n"
          ]
        },
        {
          "name": "stderr",
          "output_type": "stream",
          "text": [
            "\n",
            "Epoch 13/100: 100%|██████████| 938/938 [00:18<00:00, 51.53batch/s] [03:55<26:25, 18.02s/epoch]\n",
            "Conditional GAN Overall Training Progress:  13%|█▎        | 13/100 [03:55<26:12, 18.08s/epoch]"
          ]
        },
        {
          "name": "stdout",
          "output_type": "stream",
          "text": [
            "Batch 938/938 - Loss D: -0.5368, loss G: -0.7211\n"
          ]
        },
        {
          "name": "stderr",
          "output_type": "stream",
          "text": [
            "\n",
            "Epoch 14/100: 100%|██████████| 938/938 [00:17<00:00, 52.43batch/s] [04:13<26:12, 18.08s/epoch]\n",
            "Conditional GAN Overall Training Progress:  14%|█▍        | 14/100 [04:13<25:49, 18.02s/epoch]"
          ]
        },
        {
          "name": "stdout",
          "output_type": "stream",
          "text": [
            "Batch 938/938 - Loss D: -0.5651, loss G: -1.1754\n"
          ]
        },
        {
          "name": "stderr",
          "output_type": "stream",
          "text": [
            "\n",
            "Epoch 15/100: 100%|██████████| 938/938 [00:18<00:00, 52.11batch/s] [04:31<25:49, 18.02s/epoch]\n",
            "Conditional GAN Overall Training Progress:  15%|█▌        | 15/100 [04:31<25:31, 18.01s/epoch]"
          ]
        },
        {
          "name": "stdout",
          "output_type": "stream",
          "text": [
            "Batch 938/938 - Loss D: -0.5180, loss G: -1.3279\n"
          ]
        },
        {
          "name": "stderr",
          "output_type": "stream",
          "text": [
            "\n",
            "Epoch 16/100: 100%|██████████| 938/938 [00:18<00:00, 51.67batch/s] [04:49<25:31, 18.01s/epoch]\n",
            "Conditional GAN Overall Training Progress:  16%|█▌        | 16/100 [04:49<25:16, 18.06s/epoch]"
          ]
        },
        {
          "name": "stdout",
          "output_type": "stream",
          "text": [
            "Batch 938/938 - Loss D: -0.4649, loss G: -0.9331\n"
          ]
        },
        {
          "name": "stderr",
          "output_type": "stream",
          "text": [
            "\n",
            "Epoch 17/100: 100%|██████████| 938/938 [00:17<00:00, 52.72batch/s] [05:07<25:16, 18.06s/epoch]\n",
            "Conditional GAN Overall Training Progress:  17%|█▋        | 17/100 [05:07<24:52, 17.98s/epoch]"
          ]
        },
        {
          "name": "stdout",
          "output_type": "stream",
          "text": [
            "Batch 938/938 - Loss D: -0.6846, loss G: -1.0796\n"
          ]
        },
        {
          "name": "stderr",
          "output_type": "stream",
          "text": [
            "\n",
            "Epoch 18/100: 100%|██████████| 938/938 [00:17<00:00, 52.59batch/s] [05:25<24:52, 17.98s/epoch]\n",
            "Conditional GAN Overall Training Progress:  18%|█▊        | 18/100 [05:25<24:30, 17.94s/epoch]"
          ]
        },
        {
          "name": "stdout",
          "output_type": "stream",
          "text": [
            "Batch 938/938 - Loss D: -0.4040, loss G: -0.6851\n"
          ]
        },
        {
          "name": "stderr",
          "output_type": "stream",
          "text": [
            "\n",
            "Epoch 19/100: 100%|██████████| 938/938 [00:17<00:00, 52.30batch/s] [05:43<24:30, 17.94s/epoch]\n",
            "Conditional GAN Overall Training Progress:  19%|█▉        | 19/100 [05:43<24:12, 17.94s/epoch]"
          ]
        },
        {
          "name": "stdout",
          "output_type": "stream",
          "text": [
            "Batch 938/938 - Loss D: -0.4682, loss G: -1.1444\n"
          ]
        },
        {
          "name": "stderr",
          "output_type": "stream",
          "text": [
            "\n",
            "Epoch 20/100: 100%|██████████| 938/938 [00:17<00:00, 52.22batch/s] [06:01<24:12, 17.94s/epoch]\n",
            "Conditional GAN Overall Training Progress:  20%|██        | 20/100 [06:01<23:55, 17.94s/epoch]"
          ]
        },
        {
          "name": "stdout",
          "output_type": "stream",
          "text": [
            "Batch 938/938 - Loss D: -0.3911, loss G: -0.9601\n"
          ]
        },
        {
          "name": "stderr",
          "output_type": "stream",
          "text": [
            "\n",
            "Epoch 21/100: 100%|██████████| 938/938 [00:18<00:00, 51.83batch/s] [06:19<23:55, 17.94s/epoch]\n",
            "Conditional GAN Overall Training Progress:  21%|██        | 21/100 [06:19<23:41, 17.99s/epoch]"
          ]
        },
        {
          "name": "stdout",
          "output_type": "stream",
          "text": [
            "Batch 938/938 - Loss D: -0.4670, loss G: -0.9887\n"
          ]
        },
        {
          "name": "stderr",
          "output_type": "stream",
          "text": [
            "\n",
            "Epoch 22/100: 100%|██████████| 938/938 [00:18<00:00, 51.72batch/s] [06:37<23:41, 17.99s/epoch]\n",
            "Conditional GAN Overall Training Progress:  22%|██▏       | 22/100 [06:37<23:26, 18.03s/epoch]"
          ]
        },
        {
          "name": "stdout",
          "output_type": "stream",
          "text": [
            "Batch 938/938 - Loss D: -0.2630, loss G: -0.6468\n"
          ]
        },
        {
          "name": "stderr",
          "output_type": "stream",
          "text": [
            "\n",
            "Epoch 23/100: 100%|██████████| 938/938 [00:17<00:00, 52.12batch/s] [06:55<23:26, 18.03s/epoch]\n",
            "Conditional GAN Overall Training Progress:  23%|██▎       | 23/100 [06:55<23:07, 18.02s/epoch]"
          ]
        },
        {
          "name": "stdout",
          "output_type": "stream",
          "text": [
            "Batch 938/938 - Loss D: -0.2598, loss G: -0.7291\n"
          ]
        },
        {
          "name": "stderr",
          "output_type": "stream",
          "text": [
            "\n",
            "Epoch 24/100: 100%|██████████| 938/938 [00:18<00:00, 52.06batch/s] [07:13<23:07, 18.02s/epoch]\n",
            "Conditional GAN Overall Training Progress:  24%|██▍       | 24/100 [07:13<22:49, 18.02s/epoch]"
          ]
        },
        {
          "name": "stdout",
          "output_type": "stream",
          "text": [
            "Batch 938/938 - Loss D: -0.1958, loss G: -0.8827\n"
          ]
        },
        {
          "name": "stderr",
          "output_type": "stream",
          "text": [
            "\n",
            "Epoch 25/100: 100%|██████████| 938/938 [00:17<00:00, 52.52batch/s] [07:31<22:49, 18.02s/epoch]\n",
            "Conditional GAN Overall Training Progress:  25%|██▌       | 25/100 [07:31<22:28, 17.97s/epoch]"
          ]
        },
        {
          "name": "stdout",
          "output_type": "stream",
          "text": [
            "Batch 938/938 - Loss D: -0.3111, loss G: -1.1244\n"
          ]
        },
        {
          "name": "stderr",
          "output_type": "stream",
          "text": [
            "\n",
            "Epoch 26/100: 100%|██████████| 938/938 [00:17<00:00, 52.77batch/s] [07:49<22:28, 17.97s/epoch]\n",
            "Conditional GAN Overall Training Progress:  26%|██▌       | 26/100 [07:49<22:05, 17.91s/epoch]"
          ]
        },
        {
          "name": "stdout",
          "output_type": "stream",
          "text": [
            "Batch 938/938 - Loss D: -0.2828, loss G: -0.9355\n"
          ]
        },
        {
          "name": "stderr",
          "output_type": "stream",
          "text": [
            "\n",
            "Epoch 27/100: 100%|██████████| 938/938 [00:17<00:00, 52.13batch/s] [08:07<22:05, 17.91s/epoch]\n",
            "Conditional GAN Overall Training Progress:  27%|██▋       | 27/100 [08:07<21:49, 17.94s/epoch]"
          ]
        },
        {
          "name": "stdout",
          "output_type": "stream",
          "text": [
            "Batch 938/938 - Loss D: -0.2759, loss G: -0.7658\n"
          ]
        },
        {
          "name": "stderr",
          "output_type": "stream",
          "text": [
            "\n",
            "Epoch 28/100: 100%|██████████| 938/938 [00:17<00:00, 52.36batch/s] [08:24<21:49, 17.94s/epoch]\n",
            "Conditional GAN Overall Training Progress:  28%|██▊       | 28/100 [08:24<21:31, 17.93s/epoch]"
          ]
        },
        {
          "name": "stdout",
          "output_type": "stream",
          "text": [
            "Batch 938/938 - Loss D: -0.1900, loss G: -0.8395\n"
          ]
        },
        {
          "name": "stderr",
          "output_type": "stream",
          "text": [
            "\n",
            "Epoch 29/100: 100%|██████████| 938/938 [00:18<00:00, 51.76batch/s] [08:43<21:31, 17.93s/epoch]\n",
            "Conditional GAN Overall Training Progress:  29%|██▉       | 29/100 [08:43<21:17, 17.99s/epoch]"
          ]
        },
        {
          "name": "stdout",
          "output_type": "stream",
          "text": [
            "Batch 938/938 - Loss D: -0.2942, loss G: -0.5780\n"
          ]
        },
        {
          "name": "stderr",
          "output_type": "stream",
          "text": [
            "\n",
            "Epoch 30/100: 100%|██████████| 938/938 [00:17<00:00, 52.91batch/s] [09:00<21:17, 17.99s/epoch]\n",
            "Conditional GAN Overall Training Progress:  30%|███       | 30/100 [09:00<20:53, 17.91s/epoch]"
          ]
        },
        {
          "name": "stdout",
          "output_type": "stream",
          "text": [
            "Batch 938/938 - Loss D: -0.3067, loss G: -0.9355\n"
          ]
        },
        {
          "name": "stderr",
          "output_type": "stream",
          "text": [
            "\n",
            "Epoch 31/100: 100%|██████████| 938/938 [00:17<00:00, 52.72batch/s] [09:18<20:53, 17.91s/epoch]\n",
            "Conditional GAN Overall Training Progress:  31%|███       | 31/100 [09:18<20:33, 17.88s/epoch]"
          ]
        },
        {
          "name": "stdout",
          "output_type": "stream",
          "text": [
            "Batch 938/938 - Loss D: -0.4997, loss G: -0.8257\n"
          ]
        },
        {
          "name": "stderr",
          "output_type": "stream",
          "text": [
            "\n",
            "Epoch 32/100: 100%|██████████| 938/938 [00:18<00:00, 50.79batch/s] [09:37<20:33, 17.88s/epoch]\n",
            "Conditional GAN Overall Training Progress:  32%|███▏      | 32/100 [09:37<20:27, 18.05s/epoch]"
          ]
        },
        {
          "name": "stdout",
          "output_type": "stream",
          "text": [
            "Batch 938/938 - Loss D: -0.2463, loss G: -1.0330\n"
          ]
        },
        {
          "name": "stderr",
          "output_type": "stream",
          "text": [
            "\n",
            "Epoch 33/100: 100%|██████████| 938/938 [00:18<00:00, 51.82batch/s] [09:55<20:27, 18.05s/epoch]\n",
            "Conditional GAN Overall Training Progress:  33%|███▎      | 33/100 [09:55<20:10, 18.07s/epoch]"
          ]
        },
        {
          "name": "stdout",
          "output_type": "stream",
          "text": [
            "Batch 938/938 - Loss D: -0.3522, loss G: -1.1994\n"
          ]
        },
        {
          "name": "stderr",
          "output_type": "stream",
          "text": [
            "\n",
            "Epoch 34/100: 100%|██████████| 938/938 [00:18<00:00, 51.81batch/s] [10:13<20:10, 18.07s/epoch]\n",
            "Conditional GAN Overall Training Progress:  34%|███▍      | 34/100 [10:13<19:53, 18.08s/epoch]"
          ]
        },
        {
          "name": "stdout",
          "output_type": "stream",
          "text": [
            "Batch 938/938 - Loss D: -0.3217, loss G: -0.9645\n"
          ]
        },
        {
          "name": "stderr",
          "output_type": "stream",
          "text": [
            "\n",
            "Epoch 35/100: 100%|██████████| 938/938 [00:18<00:00, 51.37batch/s] [10:31<19:53, 18.08s/epoch]\n",
            "Conditional GAN Overall Training Progress:  35%|███▌      | 35/100 [10:31<19:38, 18.13s/epoch]"
          ]
        },
        {
          "name": "stdout",
          "output_type": "stream",
          "text": [
            "Batch 938/938 - Loss D: -0.3710, loss G: -0.1667\n"
          ]
        },
        {
          "name": "stderr",
          "output_type": "stream",
          "text": [
            "\n",
            "Epoch 36/100: 100%|██████████| 938/938 [00:18<00:00, 51.85batch/s] [10:49<19:38, 18.13s/epoch]\n",
            "Conditional GAN Overall Training Progress:  36%|███▌      | 36/100 [10:49<19:19, 18.12s/epoch]"
          ]
        },
        {
          "name": "stdout",
          "output_type": "stream",
          "text": [
            "Batch 938/938 - Loss D: -0.5693, loss G: -0.5205\n"
          ]
        },
        {
          "name": "stderr",
          "output_type": "stream",
          "text": [
            "\n",
            "Epoch 37/100: 100%|██████████| 938/938 [00:17<00:00, 52.74batch/s] [11:07<19:19, 18.12s/epoch]\n",
            "Conditional GAN Overall Training Progress:  37%|███▋      | 37/100 [11:07<18:55, 18.02s/epoch]"
          ]
        },
        {
          "name": "stdout",
          "output_type": "stream",
          "text": [
            "Batch 938/938 - Loss D: -0.2757, loss G: -0.5779\n"
          ]
        },
        {
          "name": "stderr",
          "output_type": "stream",
          "text": [
            "\n",
            "Epoch 38/100: 100%|██████████| 938/938 [00:17<00:00, 52.56batch/s] [11:25<18:55, 18.02s/epoch]\n",
            "Conditional GAN Overall Training Progress:  38%|███▊      | 38/100 [11:25<18:34, 17.97s/epoch]"
          ]
        },
        {
          "name": "stdout",
          "output_type": "stream",
          "text": [
            "Batch 938/938 - Loss D: -0.3340, loss G: -1.0573\n"
          ]
        },
        {
          "name": "stderr",
          "output_type": "stream",
          "text": [
            "\n",
            "Epoch 39/100: 100%|██████████| 938/938 [00:18<00:00, 51.94batch/s] [11:43<18:34, 17.97s/epoch]\n",
            "Conditional GAN Overall Training Progress:  39%|███▉      | 39/100 [11:43<18:17, 18.00s/epoch]"
          ]
        },
        {
          "name": "stdout",
          "output_type": "stream",
          "text": [
            "Batch 938/938 - Loss D: -0.4846, loss G: -0.8378\n"
          ]
        },
        {
          "name": "stderr",
          "output_type": "stream",
          "text": [
            "\n",
            "Epoch 40/100: 100%|██████████| 938/938 [00:17<00:00, 52.59batch/s] [12:01<18:17, 18.00s/epoch]\n",
            "Conditional GAN Overall Training Progress:  40%|████      | 40/100 [12:01<17:56, 17.95s/epoch]"
          ]
        },
        {
          "name": "stdout",
          "output_type": "stream",
          "text": [
            "Batch 938/938 - Loss D: -0.1603, loss G: -0.4546\n"
          ]
        },
        {
          "name": "stderr",
          "output_type": "stream",
          "text": [
            "\n",
            "Epoch 41/100: 100%|██████████| 938/938 [00:17<00:00, 52.23batch/s] [12:19<17:56, 17.95s/epoch]\n",
            "Conditional GAN Overall Training Progress:  41%|████      | 41/100 [12:19<17:39, 17.95s/epoch]"
          ]
        },
        {
          "name": "stdout",
          "output_type": "stream",
          "text": [
            "Batch 938/938 - Loss D: -0.2011, loss G: -0.4671\n"
          ]
        },
        {
          "name": "stderr",
          "output_type": "stream",
          "text": [
            "\n",
            "Epoch 42/100: 100%|██████████| 938/938 [00:17<00:00, 52.15batch/s] [12:37<17:39, 17.95s/epoch]\n",
            "Conditional GAN Overall Training Progress:  42%|████▏     | 42/100 [12:37<17:21, 17.96s/epoch]"
          ]
        },
        {
          "name": "stdout",
          "output_type": "stream",
          "text": [
            "Batch 938/938 - Loss D: -0.3407, loss G: -0.7706\n"
          ]
        },
        {
          "name": "stderr",
          "output_type": "stream",
          "text": [
            "\n",
            "Epoch 43/100: 100%|██████████| 938/938 [00:17<00:00, 52.90batch/s] [12:54<17:21, 17.96s/epoch]\n",
            "Conditional GAN Overall Training Progress:  43%|████▎     | 43/100 [12:54<16:59, 17.89s/epoch]"
          ]
        },
        {
          "name": "stdout",
          "output_type": "stream",
          "text": [
            "Batch 938/938 - Loss D: -0.3416, loss G: -0.6908\n"
          ]
        },
        {
          "name": "stderr",
          "output_type": "stream",
          "text": [
            "\n",
            "Epoch 44/100: 100%|██████████| 938/938 [00:18<00:00, 51.53batch/s] [13:13<16:59, 17.89s/epoch]\n",
            "Conditional GAN Overall Training Progress:  44%|████▍     | 44/100 [13:13<16:47, 17.99s/epoch]"
          ]
        },
        {
          "name": "stdout",
          "output_type": "stream",
          "text": [
            "Batch 938/938 - Loss D: -0.3358, loss G: -0.2355\n"
          ]
        },
        {
          "name": "stderr",
          "output_type": "stream",
          "text": [
            "\n",
            "Epoch 45/100: 100%|██████████| 938/938 [00:18<00:00, 51.44batch/s] [13:31<16:47, 17.99s/epoch]\n",
            "Conditional GAN Overall Training Progress:  45%|████▌     | 45/100 [13:31<16:33, 18.06s/epoch]"
          ]
        },
        {
          "name": "stdout",
          "output_type": "stream",
          "text": [
            "Batch 938/938 - Loss D: -0.3166, loss G: -0.4091\n"
          ]
        },
        {
          "name": "stderr",
          "output_type": "stream",
          "text": [
            "\n",
            "Epoch 46/100: 100%|██████████| 938/938 [00:17<00:00, 52.27batch/s] [13:49<16:33, 18.06s/epoch]\n",
            "Conditional GAN Overall Training Progress:  46%|████▌     | 46/100 [13:49<16:13, 18.03s/epoch]"
          ]
        },
        {
          "name": "stdout",
          "output_type": "stream",
          "text": [
            "Batch 938/938 - Loss D: -0.2357, loss G: -0.4451\n"
          ]
        },
        {
          "name": "stderr",
          "output_type": "stream",
          "text": [
            "\n",
            "Epoch 47/100: 100%|██████████| 938/938 [00:17<00:00, 52.44batch/s] [14:07<16:13, 18.03s/epoch]\n",
            "Conditional GAN Overall Training Progress:  47%|████▋     | 47/100 [14:07<15:53, 17.99s/epoch]"
          ]
        },
        {
          "name": "stdout",
          "output_type": "stream",
          "text": [
            "Batch 938/938 - Loss D: -0.1781, loss G: -0.2208\n"
          ]
        },
        {
          "name": "stderr",
          "output_type": "stream",
          "text": [
            "\n",
            "Epoch 48/100: 100%|██████████| 938/938 [00:17<00:00, 52.34batch/s] [14:25<15:53, 17.99s/epoch]\n",
            "Conditional GAN Overall Training Progress:  48%|████▊     | 48/100 [14:25<15:34, 17.97s/epoch]"
          ]
        },
        {
          "name": "stdout",
          "output_type": "stream",
          "text": [
            "Batch 938/938 - Loss D: -0.2207, loss G: -0.0217\n"
          ]
        },
        {
          "name": "stderr",
          "output_type": "stream",
          "text": [
            "\n",
            "Epoch 49/100: 100%|██████████| 938/938 [00:18<00:00, 51.95batch/s] [14:43<15:34, 17.97s/epoch]\n",
            "Conditional GAN Overall Training Progress:  49%|████▉     | 49/100 [14:43<15:17, 17.99s/epoch]"
          ]
        },
        {
          "name": "stdout",
          "output_type": "stream",
          "text": [
            "Batch 938/938 - Loss D: -0.3126, loss G: -0.5128\n"
          ]
        },
        {
          "name": "stderr",
          "output_type": "stream",
          "text": [
            "\n",
            "Epoch 50/100: 100%|██████████| 938/938 [00:18<00:00, 51.78batch/s] [15:01<15:17, 17.99s/epoch]\n",
            "Conditional GAN Overall Training Progress:  50%|█████     | 50/100 [15:01<15:01, 18.03s/epoch]"
          ]
        },
        {
          "name": "stdout",
          "output_type": "stream",
          "text": [
            "Batch 938/938 - Loss D: -0.2899, loss G: -0.2463\n"
          ]
        },
        {
          "name": "stderr",
          "output_type": "stream",
          "text": [
            "\n",
            "Epoch 51/100: 100%|██████████| 938/938 [00:17<00:00, 52.17batch/s] [15:19<15:01, 18.03s/epoch]\n",
            "Conditional GAN Overall Training Progress:  51%|█████     | 51/100 [15:19<14:42, 18.02s/epoch]"
          ]
        },
        {
          "name": "stdout",
          "output_type": "stream",
          "text": [
            "Batch 938/938 - Loss D: -0.4366, loss G: 0.0842\n"
          ]
        },
        {
          "name": "stderr",
          "output_type": "stream",
          "text": [
            "\n",
            "Epoch 52/100: 100%|██████████| 938/938 [00:17<00:00, 52.77batch/s] [15:36<14:42, 18.02s/epoch]\n",
            "Conditional GAN Overall Training Progress:  52%|█████▏    | 52/100 [15:36<14:21, 17.94s/epoch]"
          ]
        },
        {
          "name": "stdout",
          "output_type": "stream",
          "text": [
            "Batch 938/938 - Loss D: -0.1563, loss G: -0.3827\n"
          ]
        },
        {
          "name": "stderr",
          "output_type": "stream",
          "text": [
            "\n",
            "Epoch 53/100: 100%|██████████| 938/938 [00:17<00:00, 52.39batch/s] [15:54<14:21, 17.94s/epoch]\n",
            "Conditional GAN Overall Training Progress:  53%|█████▎    | 53/100 [15:54<14:02, 17.93s/epoch]"
          ]
        },
        {
          "name": "stdout",
          "output_type": "stream",
          "text": [
            "Batch 938/938 - Loss D: -0.1901, loss G: -0.1335\n"
          ]
        },
        {
          "name": "stderr",
          "output_type": "stream",
          "text": [
            "\n",
            "Epoch 54/100: 100%|██████████| 938/938 [00:17<00:00, 52.58batch/s] [16:12<14:02, 17.93s/epoch]\n",
            "Conditional GAN Overall Training Progress:  54%|█████▍    | 54/100 [16:12<13:43, 17.90s/epoch]"
          ]
        },
        {
          "name": "stdout",
          "output_type": "stream",
          "text": [
            "Batch 938/938 - Loss D: -0.1689, loss G: -0.4736\n"
          ]
        },
        {
          "name": "stderr",
          "output_type": "stream",
          "text": [
            "\n",
            "Epoch 55/100: 100%|██████████| 938/938 [00:17<00:00, 52.25batch/s] [16:30<13:43, 17.90s/epoch]\n",
            "Conditional GAN Overall Training Progress:  55%|█████▌    | 55/100 [16:30<13:26, 17.92s/epoch]"
          ]
        },
        {
          "name": "stdout",
          "output_type": "stream",
          "text": [
            "Batch 938/938 - Loss D: -0.2296, loss G: 0.2422\n"
          ]
        },
        {
          "name": "stderr",
          "output_type": "stream",
          "text": [
            "\n",
            "Epoch 56/100: 100%|██████████| 938/938 [00:17<00:00, 52.52batch/s] [16:48<13:26, 17.92s/epoch]\n",
            "Conditional GAN Overall Training Progress:  56%|█████▌    | 56/100 [16:48<13:07, 17.90s/epoch]"
          ]
        },
        {
          "name": "stdout",
          "output_type": "stream",
          "text": [
            "Batch 938/938 - Loss D: -0.2290, loss G: -0.1873\n"
          ]
        },
        {
          "name": "stderr",
          "output_type": "stream",
          "text": [
            "\n",
            "Epoch 57/100: 100%|██████████| 938/938 [00:18<00:00, 51.98batch/s] [17:06<13:07, 17.90s/epoch]\n",
            "Conditional GAN Overall Training Progress:  57%|█████▋    | 57/100 [17:06<12:51, 17.95s/epoch]"
          ]
        },
        {
          "name": "stdout",
          "output_type": "stream",
          "text": [
            "Batch 938/938 - Loss D: -0.2723, loss G: 0.0526\n"
          ]
        },
        {
          "name": "stderr",
          "output_type": "stream",
          "text": [
            "\n",
            "Epoch 58/100: 100%|██████████| 938/938 [00:18<00:00, 51.72batch/s] [17:24<12:51, 17.95s/epoch]\n",
            "Conditional GAN Overall Training Progress:  58%|█████▊    | 58/100 [17:24<12:36, 18.00s/epoch]"
          ]
        },
        {
          "name": "stdout",
          "output_type": "stream",
          "text": [
            "Batch 938/938 - Loss D: -0.3204, loss G: -0.7721\n"
          ]
        },
        {
          "name": "stderr",
          "output_type": "stream",
          "text": [
            "\n",
            "Epoch 59/100: 100%|██████████| 938/938 [00:18<00:00, 52.06batch/s] [17:42<12:36, 18.00s/epoch]\n",
            "Conditional GAN Overall Training Progress:  59%|█████▉    | 59/100 [17:42<12:18, 18.01s/epoch]"
          ]
        },
        {
          "name": "stdout",
          "output_type": "stream",
          "text": [
            "Batch 938/938 - Loss D: -0.2574, loss G: 0.0257\n"
          ]
        },
        {
          "name": "stderr",
          "output_type": "stream",
          "text": [
            "\n",
            "Epoch 60/100: 100%|██████████| 938/938 [00:17<00:00, 52.90batch/s] [18:00<12:18, 18.01s/epoch]\n",
            "Conditional GAN Overall Training Progress:  60%|██████    | 60/100 [18:00<11:56, 17.92s/epoch]"
          ]
        },
        {
          "name": "stdout",
          "output_type": "stream",
          "text": [
            "Batch 938/938 - Loss D: -0.3068, loss G: 0.4603\n"
          ]
        },
        {
          "name": "stderr",
          "output_type": "stream",
          "text": [
            "\n",
            "Epoch 61/100: 100%|██████████| 938/938 [00:18<00:00, 51.44batch/s] [18:18<11:56, 17.92s/epoch]\n",
            "Conditional GAN Overall Training Progress:  61%|██████    | 61/100 [18:18<11:42, 18.02s/epoch]"
          ]
        },
        {
          "name": "stdout",
          "output_type": "stream",
          "text": [
            "Batch 938/938 - Loss D: -0.4562, loss G: 0.6907\n"
          ]
        },
        {
          "name": "stderr",
          "output_type": "stream",
          "text": [
            "\n",
            "Epoch 62/100: 100%|██████████| 938/938 [00:17<00:00, 52.27batch/s] [18:36<11:42, 18.02s/epoch]\n",
            "Conditional GAN Overall Training Progress:  62%|██████▏   | 62/100 [18:36<11:23, 18.00s/epoch]"
          ]
        },
        {
          "name": "stdout",
          "output_type": "stream",
          "text": [
            "Batch 938/938 - Loss D: -0.2852, loss G: 0.4318\n"
          ]
        },
        {
          "name": "stderr",
          "output_type": "stream",
          "text": [
            "\n",
            "Epoch 63/100: 100%|██████████| 938/938 [00:18<00:00, 51.43batch/s] [18:54<11:23, 18.00s/epoch]\n",
            "Conditional GAN Overall Training Progress:  63%|██████▎   | 63/100 [18:54<11:08, 18.07s/epoch]"
          ]
        },
        {
          "name": "stdout",
          "output_type": "stream",
          "text": [
            "Batch 938/938 - Loss D: -0.1640, loss G: -0.0007\n"
          ]
        },
        {
          "name": "stderr",
          "output_type": "stream",
          "text": [
            "\n",
            "Epoch 64/100: 100%|██████████| 938/938 [00:18<00:00, 51.74batch/s] [19:13<11:08, 18.07s/epoch]\n",
            "Conditional GAN Overall Training Progress:  64%|██████▍   | 64/100 [19:13<10:51, 18.09s/epoch]"
          ]
        },
        {
          "name": "stdout",
          "output_type": "stream",
          "text": [
            "Batch 938/938 - Loss D: -0.2013, loss G: 0.2798\n"
          ]
        },
        {
          "name": "stderr",
          "output_type": "stream",
          "text": [
            "\n",
            "Epoch 65/100: 100%|██████████| 938/938 [00:18<00:00, 52.03batch/s] [19:31<10:51, 18.09s/epoch]\n",
            "Conditional GAN Overall Training Progress:  65%|██████▌   | 65/100 [19:31<10:32, 18.07s/epoch]"
          ]
        },
        {
          "name": "stdout",
          "output_type": "stream",
          "text": [
            "Batch 938/938 - Loss D: -0.2025, loss G: -0.1584\n"
          ]
        },
        {
          "name": "stderr",
          "output_type": "stream",
          "text": [
            "\n",
            "Epoch 66/100: 100%|██████████| 938/938 [00:17<00:00, 52.26batch/s] [19:48<10:32, 18.07s/epoch]\n",
            "Conditional GAN Overall Training Progress:  66%|██████▌   | 66/100 [19:48<10:13, 18.03s/epoch]"
          ]
        },
        {
          "name": "stdout",
          "output_type": "stream",
          "text": [
            "Batch 938/938 - Loss D: -0.1149, loss G: -0.0545\n"
          ]
        },
        {
          "name": "stderr",
          "output_type": "stream",
          "text": [
            "\n",
            "Epoch 67/100: 100%|██████████| 938/938 [00:17<00:00, 53.03batch/s] [20:06<10:13, 18.03s/epoch]\n",
            "Conditional GAN Overall Training Progress:  67%|██████▋   | 67/100 [20:06<09:51, 17.93s/epoch]"
          ]
        },
        {
          "name": "stdout",
          "output_type": "stream",
          "text": [
            "Batch 938/938 - Loss D: -0.2181, loss G: -0.1748\n"
          ]
        },
        {
          "name": "stderr",
          "output_type": "stream",
          "text": [
            "\n",
            "Epoch 68/100: 100%|██████████| 938/938 [00:18<00:00, 51.74batch/s] [20:24<09:51, 17.93s/epoch]\n",
            "Conditional GAN Overall Training Progress:  68%|██████▊   | 68/100 [20:24<09:35, 17.99s/epoch]"
          ]
        },
        {
          "name": "stdout",
          "output_type": "stream",
          "text": [
            "Batch 938/938 - Loss D: -0.2307, loss G: 0.3683\n"
          ]
        },
        {
          "name": "stderr",
          "output_type": "stream",
          "text": [
            "\n",
            "Epoch 69/100: 100%|██████████| 938/938 [00:18<00:00, 51.59batch/s] [20:42<09:35, 17.99s/epoch]\n",
            "Conditional GAN Overall Training Progress:  69%|██████▉   | 69/100 [20:42<09:19, 18.05s/epoch]"
          ]
        },
        {
          "name": "stdout",
          "output_type": "stream",
          "text": [
            "Batch 938/938 - Loss D: -0.2833, loss G: 0.3411\n"
          ]
        },
        {
          "name": "stderr",
          "output_type": "stream",
          "text": [
            "\n",
            "Epoch 70/100: 100%|██████████| 938/938 [00:17<00:00, 53.11batch/s] [21:00<09:19, 18.05s/epoch]\n",
            "Conditional GAN Overall Training Progress:  70%|███████   | 70/100 [21:00<08:57, 17.93s/epoch]"
          ]
        },
        {
          "name": "stdout",
          "output_type": "stream",
          "text": [
            "Batch 938/938 - Loss D: -0.3184, loss G: 0.0791\n"
          ]
        },
        {
          "name": "stderr",
          "output_type": "stream",
          "text": [
            "\n",
            "Epoch 71/100: 100%|██████████| 938/938 [00:17<00:00, 52.21batch/s] [21:18<08:57, 17.93s/epoch]\n",
            "Conditional GAN Overall Training Progress:  71%|███████   | 71/100 [21:18<08:40, 17.94s/epoch]"
          ]
        },
        {
          "name": "stdout",
          "output_type": "stream",
          "text": [
            "Batch 938/938 - Loss D: -0.1097, loss G: -0.1248\n"
          ]
        },
        {
          "name": "stderr",
          "output_type": "stream",
          "text": [
            "\n",
            "Epoch 72/100: 100%|██████████| 938/938 [00:17<00:00, 52.18batch/s] [21:36<08:40, 17.94s/epoch]\n",
            "Conditional GAN Overall Training Progress:  72%|███████▏  | 72/100 [21:36<08:22, 17.95s/epoch]"
          ]
        },
        {
          "name": "stdout",
          "output_type": "stream",
          "text": [
            "Batch 938/938 - Loss D: -0.1531, loss G: -0.0313\n"
          ]
        },
        {
          "name": "stderr",
          "output_type": "stream",
          "text": [
            "\n",
            "Epoch 73/100: 100%|██████████| 938/938 [00:18<00:00, 52.07batch/s] [21:54<08:22, 17.95s/epoch]\n",
            "Conditional GAN Overall Training Progress:  73%|███████▎  | 73/100 [21:54<08:05, 17.97s/epoch]"
          ]
        },
        {
          "name": "stdout",
          "output_type": "stream",
          "text": [
            "Batch 938/938 - Loss D: -0.0599, loss G: -0.1899\n"
          ]
        },
        {
          "name": "stderr",
          "output_type": "stream",
          "text": [
            "\n",
            "Epoch 74/100: 100%|██████████| 938/938 [00:17<00:00, 52.21batch/s] [22:12<08:05, 17.97s/epoch]\n",
            "Conditional GAN Overall Training Progress:  74%|███████▍  | 74/100 [22:12<07:47, 17.97s/epoch]"
          ]
        },
        {
          "name": "stdout",
          "output_type": "stream",
          "text": [
            "Batch 938/938 - Loss D: -0.2380, loss G: -0.0892\n"
          ]
        },
        {
          "name": "stderr",
          "output_type": "stream",
          "text": [
            "\n",
            "Epoch 75/100: 100%|██████████| 938/938 [00:17<00:00, 53.37batch/s] [22:30<07:47, 17.97s/epoch]\n",
            "Conditional GAN Overall Training Progress:  75%|███████▌  | 75/100 [22:30<07:26, 17.85s/epoch]"
          ]
        },
        {
          "name": "stdout",
          "output_type": "stream",
          "text": [
            "Batch 938/938 - Loss D: -0.1839, loss G: -0.3324\n"
          ]
        },
        {
          "name": "stderr",
          "output_type": "stream",
          "text": [
            "\n",
            "Epoch 76/100: 100%|██████████| 938/938 [00:18<00:00, 51.93batch/s] [22:48<07:26, 17.85s/epoch]\n",
            "Conditional GAN Overall Training Progress:  76%|███████▌  | 76/100 [22:48<07:09, 17.92s/epoch]"
          ]
        },
        {
          "name": "stdout",
          "output_type": "stream",
          "text": [
            "Batch 938/938 - Loss D: -0.2811, loss G: 0.4835\n"
          ]
        },
        {
          "name": "stderr",
          "output_type": "stream",
          "text": [
            "\n",
            "Epoch 77/100: 100%|██████████| 938/938 [00:17<00:00, 52.24batch/s] [23:06<07:09, 17.92s/epoch]\n",
            "Conditional GAN Overall Training Progress:  77%|███████▋  | 77/100 [23:06<06:52, 17.93s/epoch]"
          ]
        },
        {
          "name": "stdout",
          "output_type": "stream",
          "text": [
            "Batch 938/938 - Loss D: -0.1482, loss G: 0.1460\n"
          ]
        },
        {
          "name": "stderr",
          "output_type": "stream",
          "text": [
            "\n",
            "Epoch 78/100: 100%|██████████| 938/938 [00:17<00:00, 52.41batch/s] [23:24<06:52, 17.93s/epoch]\n",
            "Conditional GAN Overall Training Progress:  78%|███████▊  | 78/100 [23:24<06:34, 17.92s/epoch]"
          ]
        },
        {
          "name": "stdout",
          "output_type": "stream",
          "text": [
            "Batch 938/938 - Loss D: -0.4092, loss G: 0.2777\n"
          ]
        },
        {
          "name": "stderr",
          "output_type": "stream",
          "text": [
            "\n",
            "Epoch 79/100: 100%|██████████| 938/938 [00:17<00:00, 52.99batch/s] [23:41<06:34, 17.92s/epoch]\n",
            "Conditional GAN Overall Training Progress:  79%|███████▉  | 79/100 [23:41<06:14, 17.85s/epoch]"
          ]
        },
        {
          "name": "stdout",
          "output_type": "stream",
          "text": [
            "Batch 938/938 - Loss D: -0.1765, loss G: -0.4405\n"
          ]
        },
        {
          "name": "stderr",
          "output_type": "stream",
          "text": [
            "\n",
            "Epoch 80/100: 100%|██████████| 938/938 [00:17<00:00, 53.05batch/s] [23:59<06:14, 17.85s/epoch]\n",
            "Conditional GAN Overall Training Progress:  80%|████████  | 80/100 [23:59<05:56, 17.80s/epoch]"
          ]
        },
        {
          "name": "stdout",
          "output_type": "stream",
          "text": [
            "Batch 938/938 - Loss D: -0.1886, loss G: -0.3396\n"
          ]
        },
        {
          "name": "stderr",
          "output_type": "stream",
          "text": [
            "\n",
            "Epoch 81/100: 100%|██████████| 938/938 [00:18<00:00, 51.92batch/s] [24:17<05:56, 17.80s/epoch]\n",
            "Conditional GAN Overall Training Progress:  81%|████████  | 81/100 [24:17<05:39, 17.88s/epoch]"
          ]
        },
        {
          "name": "stdout",
          "output_type": "stream",
          "text": [
            "Batch 938/938 - Loss D: -0.2285, loss G: -0.1614\n"
          ]
        },
        {
          "name": "stderr",
          "output_type": "stream",
          "text": [
            "\n",
            "Epoch 82/100: 100%|██████████| 938/938 [00:17<00:00, 54.10batch/s] [24:34<05:39, 17.88s/epoch]\n",
            "Conditional GAN Overall Training Progress:  82%|████████▏ | 82/100 [24:34<05:18, 17.72s/epoch]"
          ]
        },
        {
          "name": "stdout",
          "output_type": "stream",
          "text": [
            "Batch 938/938 - Loss D: -0.1767, loss G: -0.2718\n"
          ]
        },
        {
          "name": "stderr",
          "output_type": "stream",
          "text": [
            "\n",
            "Epoch 83/100: 100%|██████████| 938/938 [00:17<00:00, 52.53batch/s] [24:52<05:18, 17.72s/epoch]\n",
            "Conditional GAN Overall Training Progress:  83%|████████▎ | 83/100 [24:52<05:01, 17.76s/epoch]"
          ]
        },
        {
          "name": "stdout",
          "output_type": "stream",
          "text": [
            "Batch 938/938 - Loss D: -0.0833, loss G: 0.2159\n"
          ]
        },
        {
          "name": "stderr",
          "output_type": "stream",
          "text": [
            "\n",
            "Epoch 84/100: 100%|██████████| 938/938 [00:17<00:00, 52.15batch/s] [25:10<05:01, 17.76s/epoch]\n",
            "Conditional GAN Overall Training Progress:  84%|████████▍ | 84/100 [25:10<04:45, 17.83s/epoch]"
          ]
        },
        {
          "name": "stdout",
          "output_type": "stream",
          "text": [
            "Batch 938/938 - Loss D: -0.4073, loss G: -0.0415\n"
          ]
        },
        {
          "name": "stderr",
          "output_type": "stream",
          "text": [
            "\n",
            "Epoch 85/100: 100%|██████████| 938/938 [00:18<00:00, 51.74batch/s] [25:28<04:45, 17.83s/epoch]\n",
            "Conditional GAN Overall Training Progress:  85%|████████▌ | 85/100 [25:28<04:28, 17.92s/epoch]"
          ]
        },
        {
          "name": "stdout",
          "output_type": "stream",
          "text": [
            "Batch 938/938 - Loss D: -0.1814, loss G: 0.3839\n"
          ]
        },
        {
          "name": "stderr",
          "output_type": "stream",
          "text": [
            "\n",
            "Epoch 86/100: 100%|██████████| 938/938 [00:17<00:00, 52.12batch/s] [25:46<04:28, 17.92s/epoch]\n",
            "Conditional GAN Overall Training Progress:  86%|████████▌ | 86/100 [25:46<04:11, 17.94s/epoch]"
          ]
        },
        {
          "name": "stdout",
          "output_type": "stream",
          "text": [
            "Batch 938/938 - Loss D: -0.2771, loss G: -0.5864\n"
          ]
        },
        {
          "name": "stderr",
          "output_type": "stream",
          "text": [
            "\n",
            "Epoch 87/100: 100%|██████████| 938/938 [00:18<00:00, 51.99batch/s] [26:04<04:11, 17.94s/epoch]\n",
            "Conditional GAN Overall Training Progress:  87%|████████▋ | 87/100 [26:04<03:53, 17.97s/epoch]"
          ]
        },
        {
          "name": "stdout",
          "output_type": "stream",
          "text": [
            "Batch 938/938 - Loss D: -0.1259, loss G: -0.4201\n"
          ]
        },
        {
          "name": "stderr",
          "output_type": "stream",
          "text": [
            "\n",
            "Epoch 88/100: 100%|██████████| 938/938 [00:17<00:00, 52.12batch/s] [26:22<03:53, 17.97s/epoch]\n",
            "Conditional GAN Overall Training Progress:  88%|████████▊ | 88/100 [26:22<03:35, 17.98s/epoch]"
          ]
        },
        {
          "name": "stdout",
          "output_type": "stream",
          "text": [
            "Batch 938/938 - Loss D: -0.2046, loss G: 0.2976\n"
          ]
        },
        {
          "name": "stderr",
          "output_type": "stream",
          "text": [
            "\n",
            "Epoch 89/100: 100%|██████████| 938/938 [00:18<00:00, 51.83batch/s] [26:40<03:35, 17.98s/epoch]\n",
            "Conditional GAN Overall Training Progress:  89%|████████▉ | 89/100 [26:40<03:18, 18.02s/epoch]"
          ]
        },
        {
          "name": "stdout",
          "output_type": "stream",
          "text": [
            "Batch 938/938 - Loss D: -0.4151, loss G: 0.5823\n"
          ]
        },
        {
          "name": "stderr",
          "output_type": "stream",
          "text": [
            "\n",
            "Epoch 90/100: 100%|██████████| 938/938 [00:18<00:00, 51.71batch/s] [26:59<03:18, 18.02s/epoch]\n",
            "Conditional GAN Overall Training Progress:  90%|█████████ | 90/100 [26:59<03:00, 18.05s/epoch]"
          ]
        },
        {
          "name": "stdout",
          "output_type": "stream",
          "text": [
            "Batch 938/938 - Loss D: -0.2673, loss G: 0.0358\n"
          ]
        },
        {
          "name": "stderr",
          "output_type": "stream",
          "text": [
            "\n",
            "Epoch 91/100: 100%|██████████| 938/938 [00:17<00:00, 52.40batch/s] [27:17<03:00, 18.05s/epoch]\n",
            "Conditional GAN Overall Training Progress:  91%|█████████ | 91/100 [27:17<02:42, 18.01s/epoch]"
          ]
        },
        {
          "name": "stdout",
          "output_type": "stream",
          "text": [
            "Batch 938/938 - Loss D: -0.1875, loss G: 0.0444\n"
          ]
        },
        {
          "name": "stderr",
          "output_type": "stream",
          "text": [
            "\n",
            "Epoch 92/100: 100%|██████████| 938/938 [00:18<00:00, 51.92batch/s] [27:35<02:42, 18.01s/epoch]\n",
            "Conditional GAN Overall Training Progress:  92%|█████████▏| 92/100 [27:35<02:24, 18.03s/epoch]"
          ]
        },
        {
          "name": "stdout",
          "output_type": "stream",
          "text": [
            "Batch 938/938 - Loss D: -0.1688, loss G: -0.2178\n"
          ]
        },
        {
          "name": "stderr",
          "output_type": "stream",
          "text": [
            "\n",
            "Epoch 93/100: 100%|██████████| 938/938 [00:17<00:00, 52.12batch/s] [27:53<02:24, 18.03s/epoch]\n",
            "Conditional GAN Overall Training Progress:  93%|█████████▎| 93/100 [27:53<02:06, 18.02s/epoch]"
          ]
        },
        {
          "name": "stdout",
          "output_type": "stream",
          "text": [
            "Batch 938/938 - Loss D: -0.1254, loss G: -0.1028\n"
          ]
        },
        {
          "name": "stderr",
          "output_type": "stream",
          "text": [
            "\n",
            "Epoch 94/100: 100%|██████████| 938/938 [00:17<00:00, 52.86batch/s] [28:10<02:06, 18.02s/epoch]\n",
            "Conditional GAN Overall Training Progress:  94%|█████████▍| 94/100 [28:10<01:47, 17.94s/epoch]"
          ]
        },
        {
          "name": "stdout",
          "output_type": "stream",
          "text": [
            "Batch 938/938 - Loss D: -0.1353, loss G: -0.4548\n"
          ]
        },
        {
          "name": "stderr",
          "output_type": "stream",
          "text": [
            "\n",
            "Epoch 95/100: 100%|██████████| 938/938 [00:18<00:00, 51.49batch/s] [28:29<01:47, 17.94s/epoch]\n",
            "Conditional GAN Overall Training Progress:  95%|█████████▌| 95/100 [28:29<01:30, 18.02s/epoch]"
          ]
        },
        {
          "name": "stdout",
          "output_type": "stream",
          "text": [
            "Batch 938/938 - Loss D: -0.1688, loss G: -0.3735\n"
          ]
        },
        {
          "name": "stderr",
          "output_type": "stream",
          "text": [
            "\n",
            "Epoch 96/100: 100%|██████████| 938/938 [00:18<00:00, 51.67batch/s] [28:47<01:30, 18.02s/epoch]\n",
            "Conditional GAN Overall Training Progress:  96%|█████████▌| 96/100 [28:47<01:12, 18.06s/epoch]"
          ]
        },
        {
          "name": "stdout",
          "output_type": "stream",
          "text": [
            "Batch 938/938 - Loss D: -0.1162, loss G: 0.4244\n"
          ]
        },
        {
          "name": "stderr",
          "output_type": "stream",
          "text": [
            "\n",
            "Epoch 97/100: 100%|██████████| 938/938 [00:18<00:00, 51.55batch/s] [29:05<01:12, 18.06s/epoch]\n",
            "Conditional GAN Overall Training Progress:  97%|█████████▋| 97/100 [29:05<00:54, 18.10s/epoch]"
          ]
        },
        {
          "name": "stdout",
          "output_type": "stream",
          "text": [
            "Batch 938/938 - Loss D: -0.1042, loss G: -0.0332\n"
          ]
        },
        {
          "name": "stderr",
          "output_type": "stream",
          "text": [
            "\n",
            "Epoch 98/100: 100%|██████████| 938/938 [00:18<00:00, 51.81batch/s] [29:23<00:54, 18.10s/epoch]\n",
            "Conditional GAN Overall Training Progress:  98%|█████████▊| 98/100 [29:23<00:36, 18.10s/epoch]"
          ]
        },
        {
          "name": "stdout",
          "output_type": "stream",
          "text": [
            "Batch 938/938 - Loss D: -0.1038, loss G: -0.0188\n"
          ]
        },
        {
          "name": "stderr",
          "output_type": "stream",
          "text": [
            "\n",
            "Epoch 99/100: 100%|██████████| 938/938 [00:18<00:00, 52.10batch/s] [29:41<00:36, 18.10s/epoch]\n",
            "Conditional GAN Overall Training Progress:  99%|█████████▉| 99/100 [29:41<00:18, 18.07s/epoch]"
          ]
        },
        {
          "name": "stdout",
          "output_type": "stream",
          "text": [
            "Batch 938/938 - Loss D: -0.1080, loss G: -0.6668\n"
          ]
        },
        {
          "name": "stderr",
          "output_type": "stream",
          "text": [
            "\n",
            "Epoch 100/100: 100%|██████████| 938/938 [00:17<00:00, 52.49batch/s][29:59<00:18, 18.07s/epoch]\n",
            "Conditional GAN Overall Training Progress: 100%|██████████| 100/100 [29:59<00:00, 17.99s/epoch]"
          ]
        },
        {
          "name": "stdout",
          "output_type": "stream",
          "text": [
            "Batch 938/938 - Loss D: -0.2033, loss G: -0.4801\n"
          ]
        },
        {
          "name": "stderr",
          "output_type": "stream",
          "text": [
            "\n"
          ]
        }
      ],
      "source": [
        "losses_critic_conditional = []\n",
        "losses_generator_conditional = []\n",
        "train_loader_len = len(train_loader)\n",
        "\n",
        "# Training loop with progress bars\n",
        "with tqdm(total=config.num_epochs, desc=\"Conditional GAN Overall Training Progress\", unit='epoch') as pbar_outer:\n",
        "    for epoch in range(config.num_epochs):\n",
        "        with tqdm(total=train_loader_len, desc=f\"Epoch {epoch + 1}/{config.num_epochs}\", unit='batch') as pbar_inner:\n",
        "            for i, (images, labels) in enumerate(train_loader):\n",
        "                # Preparing the data\n",
        "                real_images = images.to(device).view(images.size(0), -1)\n",
        "                labels = labels.to(device)\n",
        "                batch_size = real_images.size(0)\n",
        "                real_labels = torch.full((batch_size, 1), 1, device=device)\n",
        "                fake_labels = torch.full((batch_size, 1), 0, device=device)\n",
        "\n",
        "                # Training conditional critic\n",
        "                for _ in range(config.critic_iter):\n",
        "                    conditional_critic.zero_grad()\n",
        "\n",
        "                    # Real images\n",
        "                    real_pred = conditional_critic(real_images, labels)\n",
        "                    real_loss = -torch.mean(real_pred)\n",
        "\n",
        "                    # Fake images\n",
        "                    z = torch.randn(batch_size, config.noise_dim, device=device)\n",
        "                    fake_images = conditional_generator(z, labels)\n",
        "                    fake_pred = conditional_critic(fake_images.detach(), labels)\n",
        "                    fake_loss = torch.mean(fake_pred)\n",
        "\n",
        "                    # Total loss and optimization step\n",
        "                    critic_loss = real_loss + fake_loss\n",
        "                    critic_loss.backward()\n",
        "                    optim_conditional_critic.step()\n",
        "\n",
        "                    # Weight clipping\n",
        "                    weight_clipping(conditional_critic, config.clip_value)\n",
        "\n",
        "                # Training conditional generator\n",
        "                conditional_generator.zero_grad()\n",
        "\n",
        "                # Generating noise and labels\n",
        "                gen_pred = conditional_critic(fake_images, labels)\n",
        "                generator_loss = -torch.mean(gen_pred)\n",
        "\n",
        "                generator_loss.backward()\n",
        "                optim_conditional_generator.step()\n",
        "\n",
        "                # Saving loss values\n",
        "                losses_critic_conditional.append(critic_loss.item())\n",
        "                losses_generator_conditional.append(generator_loss.item())\n",
        "\n",
        "                # Update the inner progress bar after each batch\n",
        "                pbar_inner.update(1)\n",
        "                \n",
        "                # Optional: print losses without breaking the progress bar layout\n",
        "                if i == train_loader_len - 1:\n",
        "                    pbar_inner.write(f\"Batch {i + 1}/{train_loader_len} - Loss D: {critic_loss.item():.4f}, loss G: {generator_loss.item():.4f}\")\n",
        "                \n",
        "        # Update the outer progress bar after each epoch\n",
        "        pbar_outer.update(1)\n",
        "\n"
      ]
    },
    {
      "cell_type": "markdown",
      "metadata": {
        "id": "a2nNnYchTYhB"
      },
      "source": [
        "### Visualize the loss"
      ]
    },
    {
      "cell_type": "code",
      "execution_count": 21,
      "metadata": {
        "colab": {
          "base_uri": "https://localhost:8080/",
          "height": 487
        },
        "id": "RJQ9yLUDTYhB",
        "outputId": "3a223fe1-91e2-4f69-9dca-b4dffd1fda2e"
      },
      "outputs": [
        {
          "data": {
            "image/png": "[encoded data removed]",
            "text/plain": [
              "<Figure size 1000x500 with 1 Axes>"
            ]
          },
          "metadata": {},
          "output_type": "display_data"
        }
      ],
      "source": [
        "plot_loss(losses_generator_conditional, losses_critic_conditional, \"Generator and Critic Loss During Training (Conditional WGAN)\")\n"
      ]
    },
    {
      "cell_type": "markdown",
      "metadata": {},
      "source": [
        "### Generate images"
      ]
    },
    {
      "cell_type": "code",
      "execution_count": 22,
      "metadata": {
        "colab": {
          "base_uri": "https://localhost:8080/",
          "height": 653
        },
        "id": "zOGFRnm1TYhB",
        "outputId": "25290cde-43df-4adf-f154-31c5b2c3aa7f"
      },
      "outputs": [
        {
          "data": {
            "image/png": "[encoded data removed]",
            "text/plain": [
              "<Figure size 800x800 with 16 Axes>"
            ]
          },
          "metadata": {},
          "output_type": "display_data"
        }
      ],
      "source": [
        "generate_images(conditional_generator, label=2, config=config, device=device)\n"
      ]
    },
    {
      "cell_type": "markdown",
      "metadata": {
        "id": "hhE7cYCqTYhB"
      },
      "source": [
        "## WGAN-GP"
      ]
    },
    {
      "cell_type": "markdown",
      "metadata": {},
      "source": [
        "### Define a Gradient penalty method"
      ]
    },
    {
      "cell_type": "code",
      "execution_count": 23,
      "metadata": {
        "id": "cb_hbubWTYhB"
      },
      "outputs": [],
      "source": [
        "def compute_gradient_penalty(critic, real_samples, fake_samples, labels):\n",
        "    \"\"\"\n",
        "    Computes the gradient penalty for the critic in a GAN model.\n",
        "\n",
        "    Parameters:\n",
        "    - critic (torch.nn.Module): The critic model.\n",
        "    - real_samples (torch.Tensor): Real samples from the dataset.\n",
        "    - fake_samples (torch.Tensor): Fake samples generated by the generator.\n",
        "    - labels (torch.Tensor): Labels for the samples.\n",
        "\n",
        "    Returns:\n",
        "    - gradient_penalty (torch.Tensor): The computed gradient penalty.\n",
        "    \"\"\"\n",
        "    alpha = torch.rand((real_samples.size(0), 1), device=device).expand_as(real_samples)\n",
        "    interpolated_samples = alpha * real_samples + (1 - alpha) * fake_samples\n",
        "    interpolated_samples.requires_grad_(True)\n",
        "\n",
        "    # Critic evaluation on interpolated samples\n",
        "    interpolated_pred = critic(interpolated_samples, labels)\n",
        "\n",
        "    # Gradient calculation\n",
        "    gradients = torch.autograd.grad(\n",
        "        outputs=interpolated_pred, inputs=interpolated_samples,\n",
        "        grad_outputs=torch.ones(interpolated_pred.size(), device=device),\n",
        "        create_graph=True, retain_graph=True, only_inputs=True)[0]\n",
        "\n",
        "    # Gradient norm and penalty\n",
        "    gradients_norm = gradients.norm(2, dim=1)\n",
        "    gradient_penalty = ((gradients_norm - 1) ** 2).mean()\n",
        "    return gradient_penalty\n"
      ]
    },
    {
      "cell_type": "markdown",
      "metadata": {},
      "source": [
        "### WGAN-GP training"
      ]
    },
    {
      "cell_type": "markdown",
      "metadata": {},
      "source": [
        "#### Redefine the Conditional Generator and Conditional Critic"
      ]
    },
    {
      "cell_type": "code",
      "execution_count": 24,
      "metadata": {},
      "outputs": [],
      "source": [
        "conditional_generator = ConditionalGenerator().to(device)\n",
        "conditional_critic = ConditionalCritic().to(device)\n",
        "\n",
        "optim_conditional_critic = optim.RMSprop(conditional_critic.parameters(), lr=config.lr)\n",
        "optim_conditional_generator = optim.RMSprop(conditional_generator.parameters(), lr=config.lr)\n"
      ]
    },
    {
      "cell_type": "markdown",
      "metadata": {},
      "source": [
        "#### Train the WGAN-GP"
      ]
    },
    {
      "cell_type": "code",
      "execution_count": 25,
      "metadata": {
        "colab": {
          "base_uri": "https://localhost:8080/"
        },
        "id": "lvJULaroTYhB",
        "outputId": "c8ac6c8d-6b40-48cc-dfae-12367d57064f"
      },
      "outputs": [
        {
          "name": "stderr",
          "output_type": "stream",
          "text": [
            "WGAN-GP Overall Training Progress:   0%|          | 0/100 [00:00<?, ?epoch/s]\n",
            "Epoch 1/100: 100%|██████████| 938/938 [00:10<00:00, 85.79batch/s]?, ?epoch/s]\n",
            "WGAN-GP Overall Training Progress:   1%|          | 1/100 [00:10<18:02, 10.94s/epoch]"
          ]
        },
        {
          "name": "stdout",
          "output_type": "stream",
          "text": [
            "Batch 938/938 - Loss D: -8.3127, loss G: 7.2876\n"
          ]
        },
        {
          "name": "stderr",
          "output_type": "stream",
          "text": [
            "\n",
            "Epoch 2/100: 100%|██████████| 938/938 [00:10<00:00, 86.76batch/s]18:02, 10.94s/epoch]\n",
            "WGAN-GP Overall Training Progress:   2%|▏         | 2/100 [00:21<17:44, 10.86s/epoch]"
          ]
        },
        {
          "name": "stdout",
          "output_type": "stream",
          "text": [
            "Batch 938/938 - Loss D: -4.6496, loss G: -2.2923\n"
          ]
        },
        {
          "name": "stderr",
          "output_type": "stream",
          "text": [
            "\n",
            "Epoch 3/100: 100%|██████████| 938/938 [00:10<00:00, 86.65batch/s]17:44, 10.86s/epoch]\n",
            "WGAN-GP Overall Training Progress:   3%|▎         | 3/100 [00:32<17:32, 10.85s/epoch]"
          ]
        },
        {
          "name": "stdout",
          "output_type": "stream",
          "text": [
            "Batch 938/938 - Loss D: -5.7846, loss G: 2.6138\n"
          ]
        },
        {
          "name": "stderr",
          "output_type": "stream",
          "text": [
            "\n",
            "Epoch 4/100: 100%|██████████| 938/938 [00:10<00:00, 88.27batch/s]17:32, 10.85s/epoch]\n",
            "WGAN-GP Overall Training Progress:   4%|▍         | 4/100 [00:43<17:12, 10.76s/epoch]"
          ]
        },
        {
          "name": "stdout",
          "output_type": "stream",
          "text": [
            "Batch 938/938 - Loss D: -7.1762, loss G: -2.8232\n"
          ]
        },
        {
          "name": "stderr",
          "output_type": "stream",
          "text": [
            "\n",
            "Epoch 5/100: 100%|██████████| 938/938 [00:10<00:00, 85.37batch/s]17:12, 10.76s/epoch]\n",
            "WGAN-GP Overall Training Progress:   5%|▌         | 5/100 [00:54<17:10, 10.84s/epoch]"
          ]
        },
        {
          "name": "stdout",
          "output_type": "stream",
          "text": [
            "Batch 938/938 - Loss D: -4.6305, loss G: -8.0655\n"
          ]
        },
        {
          "name": "stderr",
          "output_type": "stream",
          "text": [
            "\n",
            "Epoch 6/100: 100%|██████████| 938/938 [00:10<00:00, 87.37batch/s]17:10, 10.84s/epoch]\n",
            "WGAN-GP Overall Training Progress:   6%|▌         | 6/100 [01:04<16:55, 10.81s/epoch]"
          ]
        },
        {
          "name": "stdout",
          "output_type": "stream",
          "text": [
            "Batch 938/938 - Loss D: -0.4299, loss G: -8.1476\n"
          ]
        },
        {
          "name": "stderr",
          "output_type": "stream",
          "text": [
            "\n",
            "Epoch 7/100: 100%|██████████| 938/938 [00:10<00:00, 86.49batch/s]16:55, 10.81s/epoch]\n",
            "WGAN-GP Overall Training Progress:   7%|▋         | 7/100 [01:15<16:46, 10.82s/epoch]"
          ]
        },
        {
          "name": "stdout",
          "output_type": "stream",
          "text": [
            "Batch 938/938 - Loss D: -3.0477, loss G: -2.4353\n"
          ]
        },
        {
          "name": "stderr",
          "output_type": "stream",
          "text": [
            "\n",
            "Epoch 8/100: 100%|██████████| 938/938 [00:10<00:00, 86.74batch/s]16:46, 10.82s/epoch]\n",
            "WGAN-GP Overall Training Progress:   8%|▊         | 8/100 [01:26<16:35, 10.82s/epoch]"
          ]
        },
        {
          "name": "stdout",
          "output_type": "stream",
          "text": [
            "Batch 938/938 - Loss D: -3.5255, loss G: -2.7800\n"
          ]
        },
        {
          "name": "stderr",
          "output_type": "stream",
          "text": [
            "\n",
            "Epoch 9/100: 100%|██████████| 938/938 [00:10<00:00, 87.96batch/s]16:35, 10.82s/epoch]\n",
            "WGAN-GP Overall Training Progress:   9%|▉         | 9/100 [01:37<16:20, 10.77s/epoch]"
          ]
        },
        {
          "name": "stdout",
          "output_type": "stream",
          "text": [
            "Batch 938/938 - Loss D: -3.9780, loss G: -1.9498\n"
          ]
        },
        {
          "name": "stderr",
          "output_type": "stream",
          "text": [
            "\n",
            "Epoch 10/100: 100%|██████████| 938/938 [00:10<00:00, 87.37batch/s]6:20, 10.77s/epoch]\n",
            "WGAN-GP Overall Training Progress:  10%|█         | 10/100 [01:47<16:08, 10.76s/epoch]"
          ]
        },
        {
          "name": "stdout",
          "output_type": "stream",
          "text": [
            "Batch 938/938 - Loss D: -2.4849, loss G: -1.7955\n"
          ]
        },
        {
          "name": "stderr",
          "output_type": "stream",
          "text": [
            "\n",
            "Epoch 11/100: 100%|██████████| 938/938 [00:10<00:00, 86.83batch/s]16:08, 10.76s/epoch]\n",
            "WGAN-GP Overall Training Progress:  11%|█         | 11/100 [01:58<15:58, 10.77s/epoch]"
          ]
        },
        {
          "name": "stdout",
          "output_type": "stream",
          "text": [
            "Batch 938/938 - Loss D: -2.3569, loss G: -1.2123\n"
          ]
        },
        {
          "name": "stderr",
          "output_type": "stream",
          "text": [
            "\n",
            "Epoch 12/100: 100%|██████████| 938/938 [00:10<00:00, 88.45batch/s]15:58, 10.77s/epoch]\n",
            "WGAN-GP Overall Training Progress:  12%|█▏        | 12/100 [02:09<15:43, 10.72s/epoch]"
          ]
        },
        {
          "name": "stdout",
          "output_type": "stream",
          "text": [
            "Batch 938/938 - Loss D: -1.8792, loss G: 0.4491\n"
          ]
        },
        {
          "name": "stderr",
          "output_type": "stream",
          "text": [
            "\n",
            "Epoch 13/100: 100%|██████████| 938/938 [00:10<00:00, 86.88batch/s]15:43, 10.72s/epoch]\n",
            "WGAN-GP Overall Training Progress:  13%|█▎        | 13/100 [02:20<15:34, 10.75s/epoch]"
          ]
        },
        {
          "name": "stdout",
          "output_type": "stream",
          "text": [
            "Batch 938/938 - Loss D: -3.1902, loss G: 3.0987\n"
          ]
        },
        {
          "name": "stderr",
          "output_type": "stream",
          "text": [
            "\n",
            "Epoch 14/100: 100%|██████████| 938/938 [00:10<00:00, 86.44batch/s]15:34, 10.75s/epoch]\n",
            "WGAN-GP Overall Training Progress:  14%|█▍        | 14/100 [02:31<15:26, 10.78s/epoch]"
          ]
        },
        {
          "name": "stdout",
          "output_type": "stream",
          "text": [
            "Batch 938/938 - Loss D: -2.7585, loss G: 0.1004\n"
          ]
        },
        {
          "name": "stderr",
          "output_type": "stream",
          "text": [
            "\n",
            "Epoch 15/100: 100%|██████████| 938/938 [00:10<00:00, 85.99batch/s]15:26, 10.78s/epoch]\n",
            "WGAN-GP Overall Training Progress:  15%|█▌        | 15/100 [02:41<15:19, 10.82s/epoch]"
          ]
        },
        {
          "name": "stdout",
          "output_type": "stream",
          "text": [
            "Batch 938/938 - Loss D: -2.5011, loss G: -2.1504\n"
          ]
        },
        {
          "name": "stderr",
          "output_type": "stream",
          "text": [
            "\n",
            "Epoch 16/100: 100%|██████████| 938/938 [00:10<00:00, 87.29batch/s]15:19, 10.82s/epoch]\n",
            "WGAN-GP Overall Training Progress:  16%|█▌        | 16/100 [02:52<15:06, 10.80s/epoch]"
          ]
        },
        {
          "name": "stdout",
          "output_type": "stream",
          "text": [
            "Batch 938/938 - Loss D: -2.2849, loss G: 1.1775\n"
          ]
        },
        {
          "name": "stderr",
          "output_type": "stream",
          "text": [
            "\n",
            "Epoch 17/100: 100%|██████████| 938/938 [00:10<00:00, 86.47batch/s]15:06, 10.80s/epoch]\n",
            "WGAN-GP Overall Training Progress:  17%|█▋        | 17/100 [03:03<14:57, 10.81s/epoch]"
          ]
        },
        {
          "name": "stdout",
          "output_type": "stream",
          "text": [
            "Batch 938/938 - Loss D: -2.7243, loss G: 0.6127\n"
          ]
        },
        {
          "name": "stderr",
          "output_type": "stream",
          "text": [
            "\n",
            "Epoch 18/100: 100%|██████████| 938/938 [00:10<00:00, 88.10batch/s]14:57, 10.81s/epoch]\n",
            "WGAN-GP Overall Training Progress:  18%|█▊        | 18/100 [03:14<14:42, 10.76s/epoch]"
          ]
        },
        {
          "name": "stdout",
          "output_type": "stream",
          "text": [
            "Batch 938/938 - Loss D: -3.6817, loss G: 0.9013\n"
          ]
        },
        {
          "name": "stderr",
          "output_type": "stream",
          "text": [
            "\n",
            "Epoch 19/100: 100%|██████████| 938/938 [00:10<00:00, 86.68batch/s]14:42, 10.76s/epoch]\n",
            "WGAN-GP Overall Training Progress:  19%|█▉        | 19/100 [03:25<14:33, 10.78s/epoch]"
          ]
        },
        {
          "name": "stdout",
          "output_type": "stream",
          "text": [
            "Batch 938/938 - Loss D: -2.7340, loss G: -1.1995\n"
          ]
        },
        {
          "name": "stderr",
          "output_type": "stream",
          "text": [
            "\n",
            "Epoch 20/100: 100%|██████████| 938/938 [00:10<00:00, 86.52batch/s]14:33, 10.78s/epoch]\n",
            "WGAN-GP Overall Training Progress:  20%|██        | 20/100 [03:35<14:23, 10.80s/epoch]"
          ]
        },
        {
          "name": "stdout",
          "output_type": "stream",
          "text": [
            "Batch 938/938 - Loss D: -1.3417, loss G: 1.0538\n"
          ]
        },
        {
          "name": "stderr",
          "output_type": "stream",
          "text": [
            "\n",
            "Epoch 21/100: 100%|██████████| 938/938 [00:10<00:00, 86.15batch/s]14:23, 10.80s/epoch]\n",
            "WGAN-GP Overall Training Progress:  21%|██        | 21/100 [03:46<14:15, 10.83s/epoch]"
          ]
        },
        {
          "name": "stdout",
          "output_type": "stream",
          "text": [
            "Batch 938/938 - Loss D: -2.4241, loss G: 0.5072\n"
          ]
        },
        {
          "name": "stderr",
          "output_type": "stream",
          "text": [
            "\n",
            "Epoch 22/100: 100%|██████████| 938/938 [00:10<00:00, 85.49batch/s]14:15, 10.83s/epoch]\n",
            "WGAN-GP Overall Training Progress:  22%|██▏       | 22/100 [03:57<14:07, 10.87s/epoch]"
          ]
        },
        {
          "name": "stdout",
          "output_type": "stream",
          "text": [
            "Batch 938/938 - Loss D: -1.8266, loss G: 1.2185\n"
          ]
        },
        {
          "name": "stderr",
          "output_type": "stream",
          "text": [
            "\n",
            "Epoch 23/100: 100%|██████████| 938/938 [00:10<00:00, 89.11batch/s]14:07, 10.87s/epoch]\n",
            "WGAN-GP Overall Training Progress:  23%|██▎       | 23/100 [04:08<13:49, 10.77s/epoch]"
          ]
        },
        {
          "name": "stdout",
          "output_type": "stream",
          "text": [
            "Batch 938/938 - Loss D: -2.1581, loss G: 3.2836\n"
          ]
        },
        {
          "name": "stderr",
          "output_type": "stream",
          "text": [
            "\n",
            "Epoch 24/100: 100%|██████████| 938/938 [00:10<00:00, 87.26batch/s]13:49, 10.77s/epoch]\n",
            "WGAN-GP Overall Training Progress:  24%|██▍       | 24/100 [04:19<13:37, 10.76s/epoch]"
          ]
        },
        {
          "name": "stdout",
          "output_type": "stream",
          "text": [
            "Batch 938/938 - Loss D: -1.7682, loss G: 0.7529\n"
          ]
        },
        {
          "name": "stderr",
          "output_type": "stream",
          "text": [
            "\n",
            "Epoch 25/100: 100%|██████████| 938/938 [00:10<00:00, 87.47batch/s]13:37, 10.76s/epoch]\n",
            "WGAN-GP Overall Training Progress:  25%|██▌       | 25/100 [04:29<13:26, 10.75s/epoch]"
          ]
        },
        {
          "name": "stdout",
          "output_type": "stream",
          "text": [
            "Batch 938/938 - Loss D: -1.5586, loss G: 0.1966\n"
          ]
        },
        {
          "name": "stderr",
          "output_type": "stream",
          "text": [
            "\n",
            "Epoch 26/100: 100%|██████████| 938/938 [00:10<00:00, 86.18batch/s]13:26, 10.75s/epoch]\n",
            "WGAN-GP Overall Training Progress:  26%|██▌       | 26/100 [04:40<13:18, 10.79s/epoch]"
          ]
        },
        {
          "name": "stdout",
          "output_type": "stream",
          "text": [
            "Batch 938/938 - Loss D: -1.3898, loss G: -0.3842\n"
          ]
        },
        {
          "name": "stderr",
          "output_type": "stream",
          "text": [
            "\n",
            "Epoch 27/100: 100%|██████████| 938/938 [00:10<00:00, 86.17batch/s]13:18, 10.79s/epoch]\n",
            "WGAN-GP Overall Training Progress:  27%|██▋       | 27/100 [04:51<13:09, 10.82s/epoch]"
          ]
        },
        {
          "name": "stdout",
          "output_type": "stream",
          "text": [
            "Batch 938/938 - Loss D: -1.0315, loss G: 0.8095\n"
          ]
        },
        {
          "name": "stderr",
          "output_type": "stream",
          "text": [
            "\n",
            "Epoch 28/100: 100%|██████████| 938/938 [00:11<00:00, 85.04batch/s]13:09, 10.82s/epoch]\n",
            "WGAN-GP Overall Training Progress:  28%|██▊       | 28/100 [05:02<13:03, 10.88s/epoch]"
          ]
        },
        {
          "name": "stdout",
          "output_type": "stream",
          "text": [
            "Batch 938/938 - Loss D: -2.0907, loss G: 2.9434\n"
          ]
        },
        {
          "name": "stderr",
          "output_type": "stream",
          "text": [
            "\n",
            "Epoch 29/100: 100%|██████████| 938/938 [00:10<00:00, 86.68batch/s]13:03, 10.88s/epoch]\n",
            "WGAN-GP Overall Training Progress:  29%|██▉       | 29/100 [05:13<12:51, 10.87s/epoch]"
          ]
        },
        {
          "name": "stdout",
          "output_type": "stream",
          "text": [
            "Batch 938/938 - Loss D: -1.5079, loss G: 1.7754\n"
          ]
        },
        {
          "name": "stderr",
          "output_type": "stream",
          "text": [
            "\n",
            "Epoch 30/100: 100%|██████████| 938/938 [00:10<00:00, 86.27batch/s]12:51, 10.87s/epoch]\n",
            "WGAN-GP Overall Training Progress:  30%|███       | 30/100 [05:24<12:40, 10.87s/epoch]"
          ]
        },
        {
          "name": "stdout",
          "output_type": "stream",
          "text": [
            "Batch 938/938 - Loss D: -2.0218, loss G: 2.3653\n"
          ]
        },
        {
          "name": "stderr",
          "output_type": "stream",
          "text": [
            "\n",
            "Epoch 31/100: 100%|██████████| 938/938 [00:10<00:00, 86.64batch/s]12:40, 10.87s/epoch]\n",
            "WGAN-GP Overall Training Progress:  31%|███       | 31/100 [05:35<12:29, 10.86s/epoch]"
          ]
        },
        {
          "name": "stdout",
          "output_type": "stream",
          "text": [
            "Batch 938/938 - Loss D: -1.0287, loss G: 0.6097\n"
          ]
        },
        {
          "name": "stderr",
          "output_type": "stream",
          "text": [
            "\n",
            "Epoch 32/100: 100%|██████████| 938/938 [00:10<00:00, 90.11batch/s]12:29, 10.86s/epoch]\n",
            "WGAN-GP Overall Training Progress:  32%|███▏      | 32/100 [05:45<12:09, 10.72s/epoch]"
          ]
        },
        {
          "name": "stdout",
          "output_type": "stream",
          "text": [
            "Batch 938/938 - Loss D: -1.1887, loss G: 1.4460\n"
          ]
        },
        {
          "name": "stderr",
          "output_type": "stream",
          "text": [
            "\n",
            "Epoch 33/100: 100%|██████████| 938/938 [00:10<00:00, 87.69batch/s]12:09, 10.72s/epoch]\n",
            "WGAN-GP Overall Training Progress:  33%|███▎      | 33/100 [05:56<11:57, 10.72s/epoch]"
          ]
        },
        {
          "name": "stdout",
          "output_type": "stream",
          "text": [
            "Batch 938/938 - Loss D: -1.4136, loss G: 1.9709\n"
          ]
        },
        {
          "name": "stderr",
          "output_type": "stream",
          "text": [
            "\n",
            "Epoch 34/100: 100%|██████████| 938/938 [00:11<00:00, 84.91batch/s]11:57, 10.72s/epoch]\n",
            "WGAN-GP Overall Training Progress:  34%|███▍      | 34/100 [06:07<11:53, 10.82s/epoch]"
          ]
        },
        {
          "name": "stdout",
          "output_type": "stream",
          "text": [
            "Batch 938/938 - Loss D: -1.0276, loss G: -0.0150\n"
          ]
        },
        {
          "name": "stderr",
          "output_type": "stream",
          "text": [
            "\n",
            "Epoch 35/100: 100%|██████████| 938/938 [00:10<00:00, 86.19batch/s]11:53, 10.82s/epoch]\n",
            "WGAN-GP Overall Training Progress:  35%|███▌      | 35/100 [06:18<11:44, 10.84s/epoch]"
          ]
        },
        {
          "name": "stdout",
          "output_type": "stream",
          "text": [
            "Batch 938/938 - Loss D: -1.0199, loss G: 0.4065\n"
          ]
        },
        {
          "name": "stderr",
          "output_type": "stream",
          "text": [
            "\n",
            "Epoch 36/100: 100%|██████████| 938/938 [00:11<00:00, 83.47batch/s]11:44, 10.84s/epoch]\n",
            "WGAN-GP Overall Training Progress:  36%|███▌      | 36/100 [06:29<11:41, 10.96s/epoch]"
          ]
        },
        {
          "name": "stdout",
          "output_type": "stream",
          "text": [
            "Batch 938/938 - Loss D: -0.5953, loss G: -1.9229\n"
          ]
        },
        {
          "name": "stderr",
          "output_type": "stream",
          "text": [
            "\n",
            "Epoch 37/100: 100%|██████████| 938/938 [00:11<00:00, 84.87batch/s]11:41, 10.96s/epoch]\n",
            "WGAN-GP Overall Training Progress:  37%|███▋      | 37/100 [06:40<11:32, 10.99s/epoch]"
          ]
        },
        {
          "name": "stdout",
          "output_type": "stream",
          "text": [
            "Batch 938/938 - Loss D: -0.9772, loss G: -1.2867\n"
          ]
        },
        {
          "name": "stderr",
          "output_type": "stream",
          "text": [
            "\n",
            "Epoch 38/100: 100%|██████████| 938/938 [00:10<00:00, 85.47batch/s]11:32, 10.99s/epoch]\n",
            "WGAN-GP Overall Training Progress:  38%|███▊      | 38/100 [06:51<11:20, 10.98s/epoch]"
          ]
        },
        {
          "name": "stdout",
          "output_type": "stream",
          "text": [
            "Batch 938/938 - Loss D: -0.8631, loss G: -0.6976\n"
          ]
        },
        {
          "name": "stderr",
          "output_type": "stream",
          "text": [
            "\n",
            "Epoch 39/100: 100%|██████████| 938/938 [00:11<00:00, 85.16batch/s]11:20, 10.98s/epoch]\n",
            "WGAN-GP Overall Training Progress:  39%|███▉      | 39/100 [07:02<11:10, 10.99s/epoch]"
          ]
        },
        {
          "name": "stdout",
          "output_type": "stream",
          "text": [
            "Batch 938/938 - Loss D: -0.8204, loss G: -1.2318\n"
          ]
        },
        {
          "name": "stderr",
          "output_type": "stream",
          "text": [
            "\n",
            "Epoch 40/100: 100%|██████████| 938/938 [00:10<00:00, 86.85batch/s]11:10, 10.99s/epoch]\n",
            "WGAN-GP Overall Training Progress:  40%|████      | 40/100 [07:13<10:56, 10.94s/epoch]"
          ]
        },
        {
          "name": "stdout",
          "output_type": "stream",
          "text": [
            "Batch 938/938 - Loss D: -1.8157, loss G: 0.6947\n"
          ]
        },
        {
          "name": "stderr",
          "output_type": "stream",
          "text": [
            "\n",
            "Epoch 41/100: 100%|██████████| 938/938 [00:10<00:00, 86.14batch/s]10:56, 10.94s/epoch]\n",
            "WGAN-GP Overall Training Progress:  41%|████      | 41/100 [07:24<10:44, 10.92s/epoch]"
          ]
        },
        {
          "name": "stdout",
          "output_type": "stream",
          "text": [
            "Batch 938/938 - Loss D: -1.1695, loss G: -0.9718\n"
          ]
        },
        {
          "name": "stderr",
          "output_type": "stream",
          "text": [
            "\n",
            "Epoch 42/100: 100%|██████████| 938/938 [00:10<00:00, 88.30batch/s]10:44, 10.92s/epoch]\n",
            "WGAN-GP Overall Training Progress:  42%|████▏     | 42/100 [07:34<10:28, 10.83s/epoch]"
          ]
        },
        {
          "name": "stdout",
          "output_type": "stream",
          "text": [
            "Batch 938/938 - Loss D: -1.1240, loss G: -2.4255\n"
          ]
        },
        {
          "name": "stderr",
          "output_type": "stream",
          "text": [
            "\n",
            "Epoch 43/100: 100%|██████████| 938/938 [00:10<00:00, 87.40batch/s]10:28, 10.83s/epoch]\n",
            "WGAN-GP Overall Training Progress:  43%|████▎     | 43/100 [07:45<10:15, 10.80s/epoch]"
          ]
        },
        {
          "name": "stdout",
          "output_type": "stream",
          "text": [
            "Batch 938/938 - Loss D: -0.7739, loss G: -1.1643\n"
          ]
        },
        {
          "name": "stderr",
          "output_type": "stream",
          "text": [
            "\n",
            "Epoch 44/100: 100%|██████████| 938/938 [00:10<00:00, 87.13batch/s]10:15, 10.80s/epoch]\n",
            "WGAN-GP Overall Training Progress:  44%|████▍     | 44/100 [07:56<10:04, 10.79s/epoch]"
          ]
        },
        {
          "name": "stdout",
          "output_type": "stream",
          "text": [
            "Batch 938/938 - Loss D: -0.7971, loss G: -1.2022\n"
          ]
        },
        {
          "name": "stderr",
          "output_type": "stream",
          "text": [
            "\n",
            "Epoch 45/100: 100%|██████████| 938/938 [00:10<00:00, 87.97batch/s]10:04, 10.79s/epoch]\n",
            "WGAN-GP Overall Training Progress:  45%|████▌     | 45/100 [08:06<09:51, 10.75s/epoch]"
          ]
        },
        {
          "name": "stdout",
          "output_type": "stream",
          "text": [
            "Batch 938/938 - Loss D: -0.9382, loss G: -2.0768\n"
          ]
        },
        {
          "name": "stderr",
          "output_type": "stream",
          "text": [
            "\n",
            "Epoch 46/100: 100%|██████████| 938/938 [00:10<00:00, 87.82batch/s]09:51, 10.75s/epoch]\n",
            "WGAN-GP Overall Training Progress:  46%|████▌     | 46/100 [08:17<09:39, 10.73s/epoch]"
          ]
        },
        {
          "name": "stdout",
          "output_type": "stream",
          "text": [
            "Batch 938/938 - Loss D: -0.7141, loss G: -3.3536\n"
          ]
        },
        {
          "name": "stderr",
          "output_type": "stream",
          "text": [
            "\n",
            "Epoch 47/100: 100%|██████████| 938/938 [00:10<00:00, 86.54batch/s]09:39, 10.73s/epoch]\n",
            "WGAN-GP Overall Training Progress:  47%|████▋     | 47/100 [08:28<09:30, 10.76s/epoch]"
          ]
        },
        {
          "name": "stdout",
          "output_type": "stream",
          "text": [
            "Batch 938/938 - Loss D: -0.9264, loss G: -3.3010\n"
          ]
        },
        {
          "name": "stderr",
          "output_type": "stream",
          "text": [
            "\n",
            "Epoch 48/100: 100%|██████████| 938/938 [00:10<00:00, 87.93batch/s]09:30, 10.76s/epoch]\n",
            "WGAN-GP Overall Training Progress:  48%|████▊     | 48/100 [08:39<09:18, 10.74s/epoch]"
          ]
        },
        {
          "name": "stdout",
          "output_type": "stream",
          "text": [
            "Batch 938/938 - Loss D: -0.5907, loss G: -2.2901\n"
          ]
        },
        {
          "name": "stderr",
          "output_type": "stream",
          "text": [
            "\n",
            "Epoch 49/100: 100%|██████████| 938/938 [00:10<00:00, 87.72batch/s]09:18, 10.74s/epoch]\n",
            "WGAN-GP Overall Training Progress:  49%|████▉     | 49/100 [08:49<09:06, 10.72s/epoch]"
          ]
        },
        {
          "name": "stdout",
          "output_type": "stream",
          "text": [
            "Batch 938/938 - Loss D: -1.0005, loss G: -1.0519\n"
          ]
        },
        {
          "name": "stderr",
          "output_type": "stream",
          "text": [
            "\n",
            "Epoch 50/100: 100%|██████████| 938/938 [00:10<00:00, 88.44batch/s]09:06, 10.72s/epoch]\n",
            "WGAN-GP Overall Training Progress:  50%|█████     | 50/100 [09:00<08:54, 10.69s/epoch]"
          ]
        },
        {
          "name": "stdout",
          "output_type": "stream",
          "text": [
            "Batch 938/938 - Loss D: -1.0499, loss G: -1.2106\n"
          ]
        },
        {
          "name": "stderr",
          "output_type": "stream",
          "text": [
            "\n",
            "Epoch 51/100: 100%|██████████| 938/938 [00:11<00:00, 85.23batch/s]08:54, 10.69s/epoch]\n",
            "WGAN-GP Overall Training Progress:  51%|█████     | 51/100 [09:11<08:48, 10.78s/epoch]"
          ]
        },
        {
          "name": "stdout",
          "output_type": "stream",
          "text": [
            "Batch 938/938 - Loss D: -1.0694, loss G: -3.3611\n"
          ]
        },
        {
          "name": "stderr",
          "output_type": "stream",
          "text": [
            "\n",
            "Epoch 52/100: 100%|██████████| 938/938 [00:10<00:00, 86.91batch/s]08:48, 10.78s/epoch]\n",
            "WGAN-GP Overall Training Progress:  52%|█████▏    | 52/100 [09:22<08:37, 10.79s/epoch]"
          ]
        },
        {
          "name": "stdout",
          "output_type": "stream",
          "text": [
            "Batch 938/938 - Loss D: -0.6160, loss G: -2.2110\n"
          ]
        },
        {
          "name": "stderr",
          "output_type": "stream",
          "text": [
            "\n",
            "Epoch 53/100: 100%|██████████| 938/938 [00:10<00:00, 88.92batch/s]08:37, 10.79s/epoch]\n",
            "WGAN-GP Overall Training Progress:  53%|█████▎    | 53/100 [09:32<08:23, 10.72s/epoch]"
          ]
        },
        {
          "name": "stdout",
          "output_type": "stream",
          "text": [
            "Batch 938/938 - Loss D: -0.5854, loss G: -4.2203\n"
          ]
        },
        {
          "name": "stderr",
          "output_type": "stream",
          "text": [
            "\n",
            "Epoch 54/100: 100%|██████████| 938/938 [00:10<00:00, 86.50batch/s]08:23, 10.72s/epoch]\n",
            "WGAN-GP Overall Training Progress:  54%|█████▍    | 54/100 [09:43<08:14, 10.75s/epoch]"
          ]
        },
        {
          "name": "stdout",
          "output_type": "stream",
          "text": [
            "Batch 938/938 - Loss D: -0.7638, loss G: -2.1695\n"
          ]
        },
        {
          "name": "stderr",
          "output_type": "stream",
          "text": [
            "\n",
            "Epoch 55/100: 100%|██████████| 938/938 [00:10<00:00, 87.77batch/s]08:14, 10.75s/epoch]\n",
            "WGAN-GP Overall Training Progress:  55%|█████▌    | 55/100 [09:54<08:03, 10.74s/epoch]"
          ]
        },
        {
          "name": "stdout",
          "output_type": "stream",
          "text": [
            "Batch 938/938 - Loss D: -0.8546, loss G: -2.1973\n"
          ]
        },
        {
          "name": "stderr",
          "output_type": "stream",
          "text": [
            "\n",
            "Epoch 56/100: 100%|██████████| 938/938 [00:10<00:00, 88.67batch/s]08:03, 10.74s/epoch]\n",
            "WGAN-GP Overall Training Progress:  56%|█████▌    | 56/100 [10:04<07:50, 10.69s/epoch]"
          ]
        },
        {
          "name": "stdout",
          "output_type": "stream",
          "text": [
            "Batch 938/938 - Loss D: -0.9400, loss G: -3.5147\n"
          ]
        },
        {
          "name": "stderr",
          "output_type": "stream",
          "text": [
            "\n",
            "Epoch 57/100: 100%|██████████| 938/938 [00:10<00:00, 86.73batch/s]07:50, 10.69s/epoch]\n",
            "WGAN-GP Overall Training Progress:  57%|█████▋    | 57/100 [10:15<07:41, 10.73s/epoch]"
          ]
        },
        {
          "name": "stdout",
          "output_type": "stream",
          "text": [
            "Batch 938/938 - Loss D: -1.2847, loss G: -3.8462\n"
          ]
        },
        {
          "name": "stderr",
          "output_type": "stream",
          "text": [
            "\n",
            "Epoch 58/100: 100%|██████████| 938/938 [00:10<00:00, 86.30batch/s]07:41, 10.73s/epoch]\n",
            "WGAN-GP Overall Training Progress:  58%|█████▊    | 58/100 [10:26<07:32, 10.77s/epoch]"
          ]
        },
        {
          "name": "stdout",
          "output_type": "stream",
          "text": [
            "Batch 938/938 - Loss D: -0.7301, loss G: -2.6680\n"
          ]
        },
        {
          "name": "stderr",
          "output_type": "stream",
          "text": [
            "\n",
            "Epoch 59/100: 100%|██████████| 938/938 [00:10<00:00, 88.01batch/s]07:32, 10.77s/epoch]\n",
            "WGAN-GP Overall Training Progress:  59%|█████▉    | 59/100 [10:37<07:20, 10.74s/epoch]"
          ]
        },
        {
          "name": "stdout",
          "output_type": "stream",
          "text": [
            "Batch 938/938 - Loss D: -0.5118, loss G: -3.8708\n"
          ]
        },
        {
          "name": "stderr",
          "output_type": "stream",
          "text": [
            "\n",
            "Epoch 60/100: 100%|██████████| 938/938 [00:10<00:00, 86.90batch/s]07:20, 10.74s/epoch]\n",
            "WGAN-GP Overall Training Progress:  60%|██████    | 60/100 [10:47<07:10, 10.75s/epoch]"
          ]
        },
        {
          "name": "stdout",
          "output_type": "stream",
          "text": [
            "Batch 938/938 - Loss D: -1.0237, loss G: -3.7580\n"
          ]
        },
        {
          "name": "stderr",
          "output_type": "stream",
          "text": [
            "\n",
            "Epoch 61/100: 100%|██████████| 938/938 [00:10<00:00, 87.32batch/s]07:10, 10.75s/epoch]\n",
            "WGAN-GP Overall Training Progress:  61%|██████    | 61/100 [10:58<06:59, 10.75s/epoch]"
          ]
        },
        {
          "name": "stdout",
          "output_type": "stream",
          "text": [
            "Batch 938/938 - Loss D: -0.6338, loss G: -5.1397\n"
          ]
        },
        {
          "name": "stderr",
          "output_type": "stream",
          "text": [
            "\n",
            "Epoch 62/100: 100%|██████████| 938/938 [00:10<00:00, 87.80batch/s]06:59, 10.75s/epoch]\n",
            "WGAN-GP Overall Training Progress:  62%|██████▏   | 62/100 [11:09<06:47, 10.73s/epoch]"
          ]
        },
        {
          "name": "stdout",
          "output_type": "stream",
          "text": [
            "Batch 938/938 - Loss D: -0.9500, loss G: -4.5505\n"
          ]
        },
        {
          "name": "stderr",
          "output_type": "stream",
          "text": [
            "\n",
            "Epoch 63/100: 100%|██████████| 938/938 [00:10<00:00, 88.30batch/s]06:47, 10.73s/epoch]\n",
            "WGAN-GP Overall Training Progress:  63%|██████▎   | 63/100 [11:20<06:35, 10.70s/epoch]"
          ]
        },
        {
          "name": "stdout",
          "output_type": "stream",
          "text": [
            "Batch 938/938 - Loss D: -1.2738, loss G: -2.8681\n"
          ]
        },
        {
          "name": "stderr",
          "output_type": "stream",
          "text": [
            "\n",
            "Epoch 64/100: 100%|██████████| 938/938 [00:10<00:00, 87.61batch/s]06:35, 10.70s/epoch]\n",
            "WGAN-GP Overall Training Progress:  64%|██████▍   | 64/100 [11:30<06:25, 10.70s/epoch]"
          ]
        },
        {
          "name": "stdout",
          "output_type": "stream",
          "text": [
            "Batch 938/938 - Loss D: -0.5717, loss G: -2.7714\n"
          ]
        },
        {
          "name": "stderr",
          "output_type": "stream",
          "text": [
            "\n",
            "Epoch 65/100: 100%|██████████| 938/938 [00:10<00:00, 88.32batch/s]06:25, 10.70s/epoch]\n",
            "WGAN-GP Overall Training Progress:  65%|██████▌   | 65/100 [11:41<06:13, 10.68s/epoch]"
          ]
        },
        {
          "name": "stdout",
          "output_type": "stream",
          "text": [
            "Batch 938/938 - Loss D: -0.8941, loss G: -5.5730\n"
          ]
        },
        {
          "name": "stderr",
          "output_type": "stream",
          "text": [
            "\n",
            "Epoch 66/100: 100%|██████████| 938/938 [00:10<00:00, 88.29batch/s]06:13, 10.68s/epoch]\n",
            "WGAN-GP Overall Training Progress:  66%|██████▌   | 66/100 [11:51<06:02, 10.66s/epoch]"
          ]
        },
        {
          "name": "stdout",
          "output_type": "stream",
          "text": [
            "Batch 938/938 - Loss D: -0.4425, loss G: -3.2153\n"
          ]
        },
        {
          "name": "stderr",
          "output_type": "stream",
          "text": [
            "\n",
            "Epoch 67/100: 100%|██████████| 938/938 [00:10<00:00, 86.41batch/s]06:02, 10.66s/epoch]\n",
            "WGAN-GP Overall Training Progress:  67%|██████▋   | 67/100 [12:02<05:53, 10.72s/epoch]"
          ]
        },
        {
          "name": "stdout",
          "output_type": "stream",
          "text": [
            "Batch 938/938 - Loss D: -0.8353, loss G: -3.3050\n"
          ]
        },
        {
          "name": "stderr",
          "output_type": "stream",
          "text": [
            "\n",
            "Epoch 68/100: 100%|██████████| 938/938 [00:10<00:00, 88.08batch/s]05:53, 10.72s/epoch]\n",
            "WGAN-GP Overall Training Progress:  68%|██████▊   | 68/100 [12:13<05:42, 10.70s/epoch]"
          ]
        },
        {
          "name": "stdout",
          "output_type": "stream",
          "text": [
            "Batch 938/938 - Loss D: -1.4429, loss G: -3.7398\n"
          ]
        },
        {
          "name": "stderr",
          "output_type": "stream",
          "text": [
            "\n",
            "Epoch 69/100: 100%|██████████| 938/938 [00:10<00:00, 87.96batch/s]05:42, 10.70s/epoch]\n",
            "WGAN-GP Overall Training Progress:  69%|██████▉   | 69/100 [12:24<05:31, 10.69s/epoch]"
          ]
        },
        {
          "name": "stdout",
          "output_type": "stream",
          "text": [
            "Batch 938/938 - Loss D: -0.6710, loss G: -3.5740\n"
          ]
        },
        {
          "name": "stderr",
          "output_type": "stream",
          "text": [
            "\n",
            "Epoch 70/100: 100%|██████████| 938/938 [00:10<00:00, 88.05batch/s]05:31, 10.69s/epoch]\n",
            "WGAN-GP Overall Training Progress:  70%|███████   | 70/100 [12:34<05:20, 10.68s/epoch]"
          ]
        },
        {
          "name": "stdout",
          "output_type": "stream",
          "text": [
            "Batch 938/938 - Loss D: -0.8503, loss G: -4.6646\n"
          ]
        },
        {
          "name": "stderr",
          "output_type": "stream",
          "text": [
            "\n",
            "Epoch 71/100: 100%|██████████| 938/938 [00:10<00:00, 87.20batch/s]05:20, 10.68s/epoch]\n",
            "WGAN-GP Overall Training Progress:  71%|███████   | 71/100 [12:45<05:10, 10.70s/epoch]"
          ]
        },
        {
          "name": "stdout",
          "output_type": "stream",
          "text": [
            "Batch 938/938 - Loss D: -0.6670, loss G: -3.0729\n"
          ]
        },
        {
          "name": "stderr",
          "output_type": "stream",
          "text": [
            "\n",
            "Epoch 72/100: 100%|██████████| 938/938 [00:10<00:00, 87.69batch/s]05:10, 10.70s/epoch]\n",
            "WGAN-GP Overall Training Progress:  72%|███████▏  | 72/100 [12:56<04:59, 10.70s/epoch]"
          ]
        },
        {
          "name": "stdout",
          "output_type": "stream",
          "text": [
            "Batch 938/938 - Loss D: -0.8804, loss G: -4.4305\n"
          ]
        },
        {
          "name": "stderr",
          "output_type": "stream",
          "text": [
            "\n",
            "Epoch 73/100: 100%|██████████| 938/938 [00:10<00:00, 87.52batch/s]04:59, 10.70s/epoch]\n",
            "WGAN-GP Overall Training Progress:  73%|███████▎  | 73/100 [13:06<04:49, 10.71s/epoch]"
          ]
        },
        {
          "name": "stdout",
          "output_type": "stream",
          "text": [
            "Batch 938/938 - Loss D: -0.5079, loss G: -4.8603\n"
          ]
        },
        {
          "name": "stderr",
          "output_type": "stream",
          "text": [
            "\n",
            "Epoch 74/100: 100%|██████████| 938/938 [00:10<00:00, 88.69batch/s]04:49, 10.71s/epoch]\n",
            "WGAN-GP Overall Training Progress:  74%|███████▍  | 74/100 [13:17<04:37, 10.67s/epoch]"
          ]
        },
        {
          "name": "stdout",
          "output_type": "stream",
          "text": [
            "Batch 938/938 - Loss D: -0.7635, loss G: -2.8738\n"
          ]
        },
        {
          "name": "stderr",
          "output_type": "stream",
          "text": [
            "\n",
            "Epoch 75/100: 100%|██████████| 938/938 [00:10<00:00, 85.50batch/s]04:37, 10.67s/epoch]\n",
            "WGAN-GP Overall Training Progress:  75%|███████▌  | 75/100 [13:28<04:28, 10.76s/epoch]"
          ]
        },
        {
          "name": "stdout",
          "output_type": "stream",
          "text": [
            "Batch 938/938 - Loss D: -0.8203, loss G: -4.4352\n"
          ]
        },
        {
          "name": "stderr",
          "output_type": "stream",
          "text": [
            "\n",
            "Epoch 76/100: 100%|██████████| 938/938 [00:10<00:00, 87.09batch/s]04:28, 10.76s/epoch]\n",
            "WGAN-GP Overall Training Progress:  76%|███████▌  | 76/100 [13:39<04:18, 10.76s/epoch]"
          ]
        },
        {
          "name": "stdout",
          "output_type": "stream",
          "text": [
            "Batch 938/938 - Loss D: -1.2290, loss G: -4.1295\n"
          ]
        },
        {
          "name": "stderr",
          "output_type": "stream",
          "text": [
            "\n",
            "Epoch 77/100: 100%|██████████| 938/938 [00:10<00:00, 87.34batch/s]04:18, 10.76s/epoch]\n",
            "WGAN-GP Overall Training Progress:  77%|███████▋  | 77/100 [13:50<04:07, 10.76s/epoch]"
          ]
        },
        {
          "name": "stdout",
          "output_type": "stream",
          "text": [
            "Batch 938/938 - Loss D: -1.0258, loss G: -4.4550\n"
          ]
        },
        {
          "name": "stderr",
          "output_type": "stream",
          "text": [
            "\n",
            "Epoch 78/100: 100%|██████████| 938/938 [00:10<00:00, 85.83batch/s]04:07, 10.76s/epoch]\n",
            "WGAN-GP Overall Training Progress:  78%|███████▊  | 78/100 [14:00<03:57, 10.81s/epoch]"
          ]
        },
        {
          "name": "stdout",
          "output_type": "stream",
          "text": [
            "Batch 938/938 - Loss D: -1.4542, loss G: -3.6876\n"
          ]
        },
        {
          "name": "stderr",
          "output_type": "stream",
          "text": [
            "\n",
            "Epoch 79/100: 100%|██████████| 938/938 [00:10<00:00, 86.76batch/s]03:57, 10.81s/epoch]\n",
            "WGAN-GP Overall Training Progress:  79%|███████▉  | 79/100 [14:11<03:46, 10.81s/epoch]"
          ]
        },
        {
          "name": "stdout",
          "output_type": "stream",
          "text": [
            "Batch 938/938 - Loss D: -0.7925, loss G: -4.3241\n"
          ]
        },
        {
          "name": "stderr",
          "output_type": "stream",
          "text": [
            "\n",
            "Epoch 80/100: 100%|██████████| 938/938 [00:10<00:00, 89.25batch/s]03:46, 10.81s/epoch]\n",
            "WGAN-GP Overall Training Progress:  80%|████████  | 80/100 [14:22<03:34, 10.72s/epoch]"
          ]
        },
        {
          "name": "stdout",
          "output_type": "stream",
          "text": [
            "Batch 938/938 - Loss D: -0.5476, loss G: -6.3169\n"
          ]
        },
        {
          "name": "stderr",
          "output_type": "stream",
          "text": [
            "\n",
            "Epoch 81/100: 100%|██████████| 938/938 [00:10<00:00, 88.33batch/s]03:34, 10.72s/epoch]\n",
            "WGAN-GP Overall Training Progress:  81%|████████  | 81/100 [14:32<03:23, 10.69s/epoch]"
          ]
        },
        {
          "name": "stdout",
          "output_type": "stream",
          "text": [
            "Batch 938/938 - Loss D: -0.7797, loss G: -5.4451\n"
          ]
        },
        {
          "name": "stderr",
          "output_type": "stream",
          "text": [
            "\n",
            "Epoch 82/100: 100%|██████████| 938/938 [00:10<00:00, 87.39batch/s]03:23, 10.69s/epoch]\n",
            "WGAN-GP Overall Training Progress:  82%|████████▏ | 82/100 [14:43<03:12, 10.70s/epoch]"
          ]
        },
        {
          "name": "stdout",
          "output_type": "stream",
          "text": [
            "Batch 938/938 - Loss D: -1.3797, loss G: -3.1912\n"
          ]
        },
        {
          "name": "stderr",
          "output_type": "stream",
          "text": [
            "\n",
            "Epoch 83/100: 100%|██████████| 938/938 [00:10<00:00, 86.34batch/s]03:12, 10.70s/epoch]\n",
            "WGAN-GP Overall Training Progress:  83%|████████▎ | 83/100 [14:54<03:02, 10.75s/epoch]"
          ]
        },
        {
          "name": "stdout",
          "output_type": "stream",
          "text": [
            "Batch 938/938 - Loss D: -0.9324, loss G: -3.1797\n"
          ]
        },
        {
          "name": "stderr",
          "output_type": "stream",
          "text": [
            "\n",
            "Epoch 84/100: 100%|██████████| 938/938 [00:10<00:00, 88.22batch/s]03:02, 10.75s/epoch]\n",
            "WGAN-GP Overall Training Progress:  84%|████████▍ | 84/100 [15:05<02:51, 10.72s/epoch]"
          ]
        },
        {
          "name": "stdout",
          "output_type": "stream",
          "text": [
            "Batch 938/938 - Loss D: -0.8637, loss G: -3.5120\n"
          ]
        },
        {
          "name": "stderr",
          "output_type": "stream",
          "text": [
            "\n",
            "Epoch 85/100: 100%|██████████| 938/938 [00:10<00:00, 87.03batch/s]02:51, 10.72s/epoch]\n",
            "WGAN-GP Overall Training Progress:  85%|████████▌ | 85/100 [15:15<02:41, 10.74s/epoch]"
          ]
        },
        {
          "name": "stdout",
          "output_type": "stream",
          "text": [
            "Batch 938/938 - Loss D: -0.6571, loss G: -5.2154\n"
          ]
        },
        {
          "name": "stderr",
          "output_type": "stream",
          "text": [
            "\n",
            "Epoch 86/100: 100%|██████████| 938/938 [00:10<00:00, 86.64batch/s]02:41, 10.74s/epoch]\n",
            "WGAN-GP Overall Training Progress:  86%|████████▌ | 86/100 [15:26<02:30, 10.76s/epoch]"
          ]
        },
        {
          "name": "stdout",
          "output_type": "stream",
          "text": [
            "Batch 938/938 - Loss D: -0.8490, loss G: -3.7998\n"
          ]
        },
        {
          "name": "stderr",
          "output_type": "stream",
          "text": [
            "\n",
            "Epoch 87/100: 100%|██████████| 938/938 [00:10<00:00, 87.60batch/s]02:30, 10.76s/epoch]\n",
            "WGAN-GP Overall Training Progress:  87%|████████▋ | 87/100 [15:37<02:19, 10.75s/epoch]"
          ]
        },
        {
          "name": "stdout",
          "output_type": "stream",
          "text": [
            "Batch 938/938 - Loss D: -0.8908, loss G: -4.3245\n"
          ]
        },
        {
          "name": "stderr",
          "output_type": "stream",
          "text": [
            "\n",
            "Epoch 88/100: 100%|██████████| 938/938 [00:10<00:00, 88.70batch/s]02:19, 10.75s/epoch]\n",
            "WGAN-GP Overall Training Progress:  88%|████████▊ | 88/100 [15:48<02:08, 10.70s/epoch]"
          ]
        },
        {
          "name": "stdout",
          "output_type": "stream",
          "text": [
            "Batch 938/938 - Loss D: -0.8060, loss G: -4.8432\n"
          ]
        },
        {
          "name": "stderr",
          "output_type": "stream",
          "text": [
            "\n",
            "Epoch 89/100: 100%|██████████| 938/938 [00:10<00:00, 86.23batch/s]02:08, 10.70s/epoch]\n",
            "WGAN-GP Overall Training Progress:  89%|████████▉ | 89/100 [15:58<01:58, 10.75s/epoch]"
          ]
        },
        {
          "name": "stdout",
          "output_type": "stream",
          "text": [
            "Batch 938/938 - Loss D: -1.3424, loss G: -2.3390\n"
          ]
        },
        {
          "name": "stderr",
          "output_type": "stream",
          "text": [
            "\n",
            "Epoch 90/100: 100%|██████████| 938/938 [00:10<00:00, 87.72batch/s]01:58, 10.75s/epoch]\n",
            "WGAN-GP Overall Training Progress:  90%|█████████ | 90/100 [16:09<01:47, 10.73s/epoch]"
          ]
        },
        {
          "name": "stdout",
          "output_type": "stream",
          "text": [
            "Batch 938/938 - Loss D: -1.0046, loss G: -2.0028\n"
          ]
        },
        {
          "name": "stderr",
          "output_type": "stream",
          "text": [
            "\n",
            "Epoch 91/100: 100%|██████████| 938/938 [00:10<00:00, 87.22batch/s]01:47, 10.73s/epoch]\n",
            "WGAN-GP Overall Training Progress:  91%|█████████ | 91/100 [16:20<01:36, 10.74s/epoch]"
          ]
        },
        {
          "name": "stdout",
          "output_type": "stream",
          "text": [
            "Batch 938/938 - Loss D: -0.8560, loss G: -4.1278\n"
          ]
        },
        {
          "name": "stderr",
          "output_type": "stream",
          "text": [
            "\n",
            "Epoch 92/100: 100%|██████████| 938/938 [00:10<00:00, 87.75batch/s]01:36, 10.74s/epoch]\n",
            "WGAN-GP Overall Training Progress:  92%|█████████▏| 92/100 [16:31<01:25, 10.73s/epoch]"
          ]
        },
        {
          "name": "stdout",
          "output_type": "stream",
          "text": [
            "Batch 938/938 - Loss D: -0.8514, loss G: -3.6488\n"
          ]
        },
        {
          "name": "stderr",
          "output_type": "stream",
          "text": [
            "\n",
            "Epoch 93/100: 100%|██████████| 938/938 [00:10<00:00, 88.91batch/s]01:25, 10.73s/epoch]\n",
            "WGAN-GP Overall Training Progress:  93%|█████████▎| 93/100 [16:41<01:14, 10.67s/epoch]"
          ]
        },
        {
          "name": "stdout",
          "output_type": "stream",
          "text": [
            "Batch 938/938 - Loss D: -0.5624, loss G: -5.4747\n"
          ]
        },
        {
          "name": "stderr",
          "output_type": "stream",
          "text": [
            "\n",
            "Epoch 94/100: 100%|██████████| 938/938 [00:10<00:00, 87.46batch/s]01:14, 10.67s/epoch]\n",
            "WGAN-GP Overall Training Progress:  94%|█████████▍| 94/100 [16:52<01:04, 10.69s/epoch]"
          ]
        },
        {
          "name": "stdout",
          "output_type": "stream",
          "text": [
            "Batch 938/938 - Loss D: -1.4373, loss G: -1.8020\n"
          ]
        },
        {
          "name": "stderr",
          "output_type": "stream",
          "text": [
            "\n",
            "Epoch 95/100: 100%|██████████| 938/938 [00:10<00:00, 87.29batch/s]01:04, 10.69s/epoch]\n",
            "WGAN-GP Overall Training Progress:  95%|█████████▌| 95/100 [17:03<00:53, 10.71s/epoch]"
          ]
        },
        {
          "name": "stdout",
          "output_type": "stream",
          "text": [
            "Batch 938/938 - Loss D: -0.5996, loss G: -3.0417\n"
          ]
        },
        {
          "name": "stderr",
          "output_type": "stream",
          "text": [
            "\n",
            "Epoch 96/100: 100%|██████████| 938/938 [00:10<00:00, 87.98batch/s]00:53, 10.71s/epoch]\n",
            "WGAN-GP Overall Training Progress:  96%|█████████▌| 96/100 [17:13<00:42, 10.69s/epoch]"
          ]
        },
        {
          "name": "stdout",
          "output_type": "stream",
          "text": [
            "Batch 938/938 - Loss D: -0.8441, loss G: -3.6451\n"
          ]
        },
        {
          "name": "stderr",
          "output_type": "stream",
          "text": [
            "\n",
            "Epoch 97/100: 100%|██████████| 938/938 [00:10<00:00, 86.70batch/s]00:42, 10.69s/epoch]\n",
            "WGAN-GP Overall Training Progress:  97%|█████████▋| 97/100 [17:24<00:32, 10.73s/epoch]"
          ]
        },
        {
          "name": "stdout",
          "output_type": "stream",
          "text": [
            "Batch 938/938 - Loss D: -0.4919, loss G: -4.9795\n"
          ]
        },
        {
          "name": "stderr",
          "output_type": "stream",
          "text": [
            "\n",
            "Epoch 98/100: 100%|██████████| 938/938 [00:10<00:00, 87.77batch/s]00:32, 10.73s/epoch]\n",
            "WGAN-GP Overall Training Progress:  98%|█████████▊| 98/100 [17:35<00:21, 10.72s/epoch]"
          ]
        },
        {
          "name": "stdout",
          "output_type": "stream",
          "text": [
            "Batch 938/938 - Loss D: -1.0777, loss G: -4.0991\n"
          ]
        },
        {
          "name": "stderr",
          "output_type": "stream",
          "text": [
            "\n",
            "Epoch 99/100: 100%|██████████| 938/938 [00:10<00:00, 86.10batch/s]00:21, 10.72s/epoch]\n",
            "WGAN-GP Overall Training Progress:  99%|█████████▉| 99/100 [17:46<00:10, 10.77s/epoch]"
          ]
        },
        {
          "name": "stdout",
          "output_type": "stream",
          "text": [
            "Batch 938/938 - Loss D: -1.1150, loss G: -6.3852\n"
          ]
        },
        {
          "name": "stderr",
          "output_type": "stream",
          "text": [
            "\n",
            "Epoch 100/100: 100%|██████████| 938/938 [00:10<00:00, 87.72batch/s]0:10, 10.77s/epoch]\n",
            "WGAN-GP Overall Training Progress: 100%|██████████| 100/100 [17:56<00:00, 10.77s/epoch]"
          ]
        },
        {
          "name": "stdout",
          "output_type": "stream",
          "text": [
            "Batch 938/938 - Loss D: -0.6016, loss G: -6.0112\n"
          ]
        },
        {
          "name": "stderr",
          "output_type": "stream",
          "text": [
            "\n"
          ]
        }
      ],
      "source": [
        "lambda_gp = 10\n",
        "losses_critic_wgangp = []\n",
        "losses_generator_wgangp = []\n",
        "train_loader_len = len(train_loader)\n",
        "\n",
        "# Training loop with progress bars\n",
        "with tqdm(total=config.num_epochs, desc=\"WGAN-GP Overall Training Progress\", unit='epoch') as pbar_outer:\n",
        "    for epoch in range(config.num_epochs):\n",
        "        with tqdm(total=train_loader_len, desc=f\"Epoch {epoch + 1}/{config.num_epochs}\", unit='batch') as pbar_inner:\n",
        "            for i, (images, labels) in enumerate(train_loader):\n",
        "                real_images = images.to(device).view(images.size(0), -1)\n",
        "                labels = labels.to(device)\n",
        "                batch_size = real_images.size(0)\n",
        "\n",
        "                # Training conditional critic\n",
        "                conditional_critic.zero_grad()\n",
        "\n",
        "                # Real images\n",
        "                real_pred = conditional_critic(real_images, labels)\n",
        "                real_loss = -torch.mean(real_pred)\n",
        "\n",
        "                # Fake images\n",
        "                z = torch.randn(batch_size, config.noise_dim, device=device)\n",
        "                fake_images = conditional_generator(z, labels)\n",
        "                fake_pred = conditional_critic(fake_images.detach(), labels)\n",
        "                fake_loss = torch.mean(fake_pred)\n",
        "\n",
        "                # Calculating gradient penalty\n",
        "                gradient_penalty = compute_gradient_penalty(conditional_critic, real_images, fake_images.detach(), labels)\n",
        "                critic_loss = real_loss + fake_loss + lambda_gp * gradient_penalty\n",
        "\n",
        "                critic_loss.backward()\n",
        "                optim_conditional_critic.step()\n",
        "\n",
        "                # Training conditional generator\n",
        "                conditional_generator.zero_grad()\n",
        "\n",
        "                # Regenerating fake images\n",
        "                fake_images = conditional_generator(z, labels)\n",
        "                gen_pred = conditional_critic(fake_images, labels)\n",
        "                generator_loss = -torch.mean(gen_pred)\n",
        "\n",
        "                generator_loss.backward()\n",
        "                optim_conditional_generator.step()\n",
        "\n",
        "                # Saving loss values\n",
        "                losses_critic_wgangp.append(critic_loss.item())\n",
        "                losses_generator_wgangp.append(generator_loss.item())\n",
        "\n",
        "                # Update the inner progress bar after each batch\n",
        "                pbar_inner.update(1)\n",
        "                \n",
        "                # Optional: print losses without breaking the progress bar layout\n",
        "                if i == train_loader_len - 1:\n",
        "                    pbar_inner.write(f\"Batch {i + 1}/{train_loader_len} - Loss D: {critic_loss.item():.4f}, loss G: {generator_loss.item():.4f}\")\n",
        "\n",
        "        # Update the outer progress bar after each epoch\n",
        "        pbar_outer.update(1)\n",
        "\n"
      ]
    },
    {
      "cell_type": "code",
      "execution_count": 26,
      "metadata": {
        "colab": {
          "base_uri": "https://localhost:8080/",
          "height": 487
        },
        "id": "eDgu4SUrTYhB",
        "outputId": "0b44609a-4a8e-4fbf-a64f-0a4ddc5080f8"
      },
      "outputs": [
        {
          "data": {
            "image/png": "[encoded data removed]",
            "text/plain": [
              "<Figure size 1000x500 with 1 Axes>"
            ]
          },
          "metadata": {},
          "output_type": "display_data"
        }
      ],
      "source": [
        "plot_loss(losses_generator_wgangp, losses_critic_wgangp, \"Generator and Critic Loss During Training (WGAN-GP)\")"
      ]
    },
    {
      "cell_type": "code",
      "execution_count": 27,
      "metadata": {
        "colab": {
          "base_uri": "https://localhost:8080/",
          "height": 653
        },
        "id": "AJ59le0hTYhC",
        "outputId": "39ed04cc-b422-4b03-9555-96fe71847ec1"
      },
      "outputs": [
        {
          "data": {
            "image/png": "[encoded data removed]",
            "text/plain": [
              "<Figure size 800x800 with 16 Axes>"
            ]
          },
          "metadata": {},
          "output_type": "display_data"
        }
      ],
      "source": [
        "generate_images(conditional_generator, label=5, config=config, device=device)\n"
      ]
    }
  ],
  "metadata": {
    "accelerator": "GPU",
    "colab": {
      "gpuType": "T4",
      "provenance": []
    },
    "kernelspec": {
      "display_name": "Python 3",
      "name": "python3"
    },
    "language_info": {
      "codemirror_mode": {
        "name": "ipython",
        "version": 3
      },
      "file_extension": ".py",
      "mimetype": "text/x-python",
      "name": "python",
      "nbconvert_exporter": "python",
      "pygments_lexer": "ipython3",
      "version": "3.11.3"
    }
  },
  "nbformat": 4,
  "nbformat_minor": 0
}
